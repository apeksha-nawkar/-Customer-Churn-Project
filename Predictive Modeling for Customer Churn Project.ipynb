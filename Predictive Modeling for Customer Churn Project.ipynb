{
 "cells": [
  {
   "cell_type": "markdown",
   "id": "3562985e",
   "metadata": {},
   "source": [
    "# Importing Libraries"
   ]
  },
  {
   "cell_type": "code",
   "execution_count": 454,
   "id": "b3fc5e7a",
   "metadata": {
    "ExecuteTime": {
     "end_time": "2023-02-10T15:04:56.026293Z",
     "start_time": "2023-02-10T15:04:56.020292Z"
    }
   },
   "outputs": [],
   "source": [
    "import pandas as pd\n",
    "import matplotlib.pyplot as plt\n",
    "import seaborn as sns\n"
   ]
  },
  {
   "cell_type": "code",
   "execution_count": 455,
   "id": "f3741bda",
   "metadata": {
    "ExecuteTime": {
     "end_time": "2023-02-10T15:05:20.664855Z",
     "start_time": "2023-02-10T15:04:56.031294Z"
    }
   },
   "outputs": [
    {
     "name": "stdout",
     "output_type": "stream",
     "text": [
      "Requirement already satisfied: scikit-learn in c:\\users\\apeksha\\anaconda3\\lib\\site-packages (1.2.1)\n",
      "Requirement already satisfied: scipy>=1.3.2 in c:\\users\\apeksha\\anaconda3\\lib\\site-packages (from scikit-learn) (1.7.1)\n",
      "Requirement already satisfied: numpy>=1.17.3 in c:\\users\\apeksha\\anaconda3\\lib\\site-packages (from scikit-learn) (1.20.3)\n",
      "Requirement already satisfied: joblib>=1.1.1 in c:\\users\\apeksha\\anaconda3\\lib\\site-packages (from scikit-learn) (1.2.0)\n",
      "Requirement already satisfied: threadpoolctl>=2.0.0 in c:\\users\\apeksha\\anaconda3\\lib\\site-packages (from scikit-learn) (2.2.0)\n",
      "Name: imbalanced-learn\n",
      "Version: 0.10.1\n",
      "Summary: Toolbox for imbalanced dataset in machine learning.\n",
      "Home-page: https://github.com/scikit-learn-contrib/imbalanced-learn\n",
      "Author: \n",
      "Author-email: \n",
      "License: MIT\n",
      "Location: c:\\users\\apeksha\\anaconda3\\lib\\site-packages\n",
      "Requires: joblib, threadpoolctl, scipy, scikit-learn, numpy\n",
      "Required-by: imblearn\n",
      "Requirement already satisfied: imblearn in c:\\users\\apeksha\\anaconda3\\lib\\site-packages (0.0)\n",
      "Requirement already satisfied: imbalanced-learn in c:\\users\\apeksha\\anaconda3\\lib\\site-packages (from imblearn) (0.10.1)\n",
      "Requirement already satisfied: scipy>=1.3.2 in c:\\users\\apeksha\\anaconda3\\lib\\site-packages (from imbalanced-learn->imblearn) (1.7.1)\n",
      "Requirement already satisfied: scikit-learn>=1.0.2 in c:\\users\\apeksha\\anaconda3\\lib\\site-packages (from imbalanced-learn->imblearn) (1.2.1)\n",
      "Requirement already satisfied: numpy>=1.17.3 in c:\\users\\apeksha\\anaconda3\\lib\\site-packages (from imbalanced-learn->imblearn) (1.20.3)\n",
      "Requirement already satisfied: threadpoolctl>=2.0.0 in c:\\users\\apeksha\\anaconda3\\lib\\site-packages (from imbalanced-learn->imblearn) (2.2.0)\n",
      "Requirement already satisfied: joblib>=1.1.1 in c:\\users\\apeksha\\anaconda3\\lib\\site-packages (from imbalanced-learn->imblearn) (1.2.0)\n",
      "Requirement already satisfied: imbalanced-learn in c:\\users\\apeksha\\anaconda3\\lib\\site-packages (0.10.1)\n",
      "Requirement already satisfied: scipy>=1.3.2 in c:\\users\\apeksha\\anaconda3\\lib\\site-packages (from imbalanced-learn) (1.7.1)\n",
      "Requirement already satisfied: joblib>=1.1.1 in c:\\users\\apeksha\\anaconda3\\lib\\site-packages (from imbalanced-learn) (1.2.0)\n",
      "Requirement already satisfied: scikit-learn>=1.0.2 in c:\\users\\apeksha\\anaconda3\\lib\\site-packages (from imbalanced-learn) (1.2.1)\n",
      "Requirement already satisfied: numpy>=1.17.3 in c:\\users\\apeksha\\anaconda3\\lib\\site-packages (from imbalanced-learn) (1.20.3)\n",
      "Requirement already satisfied: threadpoolctl>=2.0.0 in c:\\users\\apeksha\\anaconda3\\lib\\site-packages (from imbalanced-learn) (2.2.0)\n",
      "Requirement already satisfied: skfeature-chappers in c:\\users\\apeksha\\anaconda3\\lib\\site-packages (1.1.0)\n",
      "Requirement already satisfied: pandas in c:\\users\\apeksha\\anaconda3\\lib\\site-packages (from skfeature-chappers) (1.3.4)\n",
      "Requirement already satisfied: numpy in c:\\users\\apeksha\\anaconda3\\lib\\site-packages (from skfeature-chappers) (1.20.3)\n",
      "Requirement already satisfied: scikit-learn in c:\\users\\apeksha\\anaconda3\\lib\\site-packages (from skfeature-chappers) (1.2.1)\n",
      "Requirement already satisfied: python-dateutil>=2.7.3 in c:\\users\\apeksha\\anaconda3\\lib\\site-packages (from pandas->skfeature-chappers) (2.8.2)\n",
      "Requirement already satisfied: pytz>=2017.3 in c:\\users\\apeksha\\anaconda3\\lib\\site-packages (from pandas->skfeature-chappers) (2021.3)\n",
      "Requirement already satisfied: six>=1.5 in c:\\users\\apeksha\\anaconda3\\lib\\site-packages (from python-dateutil>=2.7.3->pandas->skfeature-chappers) (1.16.0)\n",
      "Requirement already satisfied: joblib>=1.1.1 in c:\\users\\apeksha\\anaconda3\\lib\\site-packages (from scikit-learn->skfeature-chappers) (1.2.0)\n",
      "Requirement already satisfied: scipy>=1.3.2 in c:\\users\\apeksha\\anaconda3\\lib\\site-packages (from scikit-learn->skfeature-chappers) (1.7.1)\n",
      "Requirement already satisfied: threadpoolctl>=2.0.0 in c:\\users\\apeksha\\anaconda3\\lib\\site-packages (from scikit-learn->skfeature-chappers) (2.2.0)\n",
      "1.2.1\n"
     ]
    }
   ],
   "source": [
    "!pip install --upgrade scikit-learn\n",
    "!pip show imbalanced-learn\n",
    "!pip install imblearn\n",
    "!pip install -U imbalanced-learn\n",
    "!pip install skfeature-chappers\n",
    "import sklearn\n",
    "print(sklearn.__version__)"
   ]
  },
  {
   "cell_type": "code",
   "execution_count": 456,
   "id": "2147003c",
   "metadata": {
    "ExecuteTime": {
     "end_time": "2023-02-10T15:05:20.696421Z",
     "start_time": "2023-02-10T15:05:20.667899Z"
    }
   },
   "outputs": [],
   "source": [
    "df=pd.read_csv(\"bank (2).csv\",sep=\";\")"
   ]
  },
  {
   "cell_type": "code",
   "execution_count": 457,
   "id": "b7e8ed8f",
   "metadata": {
    "ExecuteTime": {
     "end_time": "2023-02-10T15:05:20.742174Z",
     "start_time": "2023-02-10T15:05:20.701038Z"
    }
   },
   "outputs": [
    {
     "data": {
      "text/html": [
       "<div>\n",
       "<style scoped>\n",
       "    .dataframe tbody tr th:only-of-type {\n",
       "        vertical-align: middle;\n",
       "    }\n",
       "\n",
       "    .dataframe tbody tr th {\n",
       "        vertical-align: top;\n",
       "    }\n",
       "\n",
       "    .dataframe thead th {\n",
       "        text-align: right;\n",
       "    }\n",
       "</style>\n",
       "<table border=\"1\" class=\"dataframe\">\n",
       "  <thead>\n",
       "    <tr style=\"text-align: right;\">\n",
       "      <th></th>\n",
       "      <th>age</th>\n",
       "      <th>job</th>\n",
       "      <th>marital</th>\n",
       "      <th>education</th>\n",
       "      <th>default</th>\n",
       "      <th>balance</th>\n",
       "      <th>housing</th>\n",
       "      <th>loan</th>\n",
       "      <th>contact</th>\n",
       "      <th>day</th>\n",
       "      <th>month</th>\n",
       "      <th>duration</th>\n",
       "      <th>campaign</th>\n",
       "      <th>pdays</th>\n",
       "      <th>previous</th>\n",
       "      <th>poutcome</th>\n",
       "      <th>y</th>\n",
       "    </tr>\n",
       "  </thead>\n",
       "  <tbody>\n",
       "    <tr>\n",
       "      <th>0</th>\n",
       "      <td>30</td>\n",
       "      <td>unemployed</td>\n",
       "      <td>married</td>\n",
       "      <td>primary</td>\n",
       "      <td>no</td>\n",
       "      <td>1787</td>\n",
       "      <td>no</td>\n",
       "      <td>no</td>\n",
       "      <td>cellular</td>\n",
       "      <td>19</td>\n",
       "      <td>oct</td>\n",
       "      <td>79</td>\n",
       "      <td>1</td>\n",
       "      <td>-1</td>\n",
       "      <td>0</td>\n",
       "      <td>unknown</td>\n",
       "      <td>no</td>\n",
       "    </tr>\n",
       "    <tr>\n",
       "      <th>1</th>\n",
       "      <td>33</td>\n",
       "      <td>services</td>\n",
       "      <td>married</td>\n",
       "      <td>secondary</td>\n",
       "      <td>no</td>\n",
       "      <td>4789</td>\n",
       "      <td>yes</td>\n",
       "      <td>yes</td>\n",
       "      <td>cellular</td>\n",
       "      <td>11</td>\n",
       "      <td>may</td>\n",
       "      <td>220</td>\n",
       "      <td>1</td>\n",
       "      <td>339</td>\n",
       "      <td>4</td>\n",
       "      <td>failure</td>\n",
       "      <td>no</td>\n",
       "    </tr>\n",
       "    <tr>\n",
       "      <th>2</th>\n",
       "      <td>35</td>\n",
       "      <td>management</td>\n",
       "      <td>single</td>\n",
       "      <td>tertiary</td>\n",
       "      <td>no</td>\n",
       "      <td>1350</td>\n",
       "      <td>yes</td>\n",
       "      <td>no</td>\n",
       "      <td>cellular</td>\n",
       "      <td>16</td>\n",
       "      <td>apr</td>\n",
       "      <td>185</td>\n",
       "      <td>1</td>\n",
       "      <td>330</td>\n",
       "      <td>1</td>\n",
       "      <td>failure</td>\n",
       "      <td>no</td>\n",
       "    </tr>\n",
       "    <tr>\n",
       "      <th>3</th>\n",
       "      <td>30</td>\n",
       "      <td>management</td>\n",
       "      <td>married</td>\n",
       "      <td>tertiary</td>\n",
       "      <td>no</td>\n",
       "      <td>1476</td>\n",
       "      <td>yes</td>\n",
       "      <td>yes</td>\n",
       "      <td>unknown</td>\n",
       "      <td>3</td>\n",
       "      <td>jun</td>\n",
       "      <td>199</td>\n",
       "      <td>4</td>\n",
       "      <td>-1</td>\n",
       "      <td>0</td>\n",
       "      <td>unknown</td>\n",
       "      <td>no</td>\n",
       "    </tr>\n",
       "    <tr>\n",
       "      <th>4</th>\n",
       "      <td>59</td>\n",
       "      <td>blue-collar</td>\n",
       "      <td>married</td>\n",
       "      <td>secondary</td>\n",
       "      <td>no</td>\n",
       "      <td>0</td>\n",
       "      <td>yes</td>\n",
       "      <td>no</td>\n",
       "      <td>unknown</td>\n",
       "      <td>5</td>\n",
       "      <td>may</td>\n",
       "      <td>226</td>\n",
       "      <td>1</td>\n",
       "      <td>-1</td>\n",
       "      <td>0</td>\n",
       "      <td>unknown</td>\n",
       "      <td>no</td>\n",
       "    </tr>\n",
       "  </tbody>\n",
       "</table>\n",
       "</div>"
      ],
      "text/plain": [
       "   age          job  marital  education default  balance housing loan  \\\n",
       "0   30   unemployed  married    primary      no     1787      no   no   \n",
       "1   33     services  married  secondary      no     4789     yes  yes   \n",
       "2   35   management   single   tertiary      no     1350     yes   no   \n",
       "3   30   management  married   tertiary      no     1476     yes  yes   \n",
       "4   59  blue-collar  married  secondary      no        0     yes   no   \n",
       "\n",
       "    contact  day month  duration  campaign  pdays  previous poutcome   y  \n",
       "0  cellular   19   oct        79         1     -1         0  unknown  no  \n",
       "1  cellular   11   may       220         1    339         4  failure  no  \n",
       "2  cellular   16   apr       185         1    330         1  failure  no  \n",
       "3   unknown    3   jun       199         4     -1         0  unknown  no  \n",
       "4   unknown    5   may       226         1     -1         0  unknown  no  "
      ]
     },
     "execution_count": 457,
     "metadata": {},
     "output_type": "execute_result"
    }
   ],
   "source": [
    "df.head()"
   ]
  },
  {
   "cell_type": "code",
   "execution_count": 458,
   "id": "9f2be339",
   "metadata": {
    "ExecuteTime": {
     "end_time": "2023-02-10T15:05:20.773688Z",
     "start_time": "2023-02-10T15:05:20.746859Z"
    }
   },
   "outputs": [
    {
     "data": {
      "text/html": [
       "<div>\n",
       "<style scoped>\n",
       "    .dataframe tbody tr th:only-of-type {\n",
       "        vertical-align: middle;\n",
       "    }\n",
       "\n",
       "    .dataframe tbody tr th {\n",
       "        vertical-align: top;\n",
       "    }\n",
       "\n",
       "    .dataframe thead th {\n",
       "        text-align: right;\n",
       "    }\n",
       "</style>\n",
       "<table border=\"1\" class=\"dataframe\">\n",
       "  <thead>\n",
       "    <tr style=\"text-align: right;\">\n",
       "      <th></th>\n",
       "      <th>age</th>\n",
       "      <th>job</th>\n",
       "      <th>marital</th>\n",
       "      <th>education</th>\n",
       "      <th>default</th>\n",
       "      <th>balance</th>\n",
       "      <th>housing</th>\n",
       "      <th>loan</th>\n",
       "      <th>contact</th>\n",
       "      <th>day</th>\n",
       "      <th>month</th>\n",
       "      <th>duration</th>\n",
       "      <th>campaign</th>\n",
       "      <th>pdays</th>\n",
       "      <th>previous</th>\n",
       "      <th>poutcome</th>\n",
       "      <th>y</th>\n",
       "    </tr>\n",
       "  </thead>\n",
       "  <tbody>\n",
       "    <tr>\n",
       "      <th>4516</th>\n",
       "      <td>33</td>\n",
       "      <td>services</td>\n",
       "      <td>married</td>\n",
       "      <td>secondary</td>\n",
       "      <td>no</td>\n",
       "      <td>-333</td>\n",
       "      <td>yes</td>\n",
       "      <td>no</td>\n",
       "      <td>cellular</td>\n",
       "      <td>30</td>\n",
       "      <td>jul</td>\n",
       "      <td>329</td>\n",
       "      <td>5</td>\n",
       "      <td>-1</td>\n",
       "      <td>0</td>\n",
       "      <td>unknown</td>\n",
       "      <td>no</td>\n",
       "    </tr>\n",
       "    <tr>\n",
       "      <th>4517</th>\n",
       "      <td>57</td>\n",
       "      <td>self-employed</td>\n",
       "      <td>married</td>\n",
       "      <td>tertiary</td>\n",
       "      <td>yes</td>\n",
       "      <td>-3313</td>\n",
       "      <td>yes</td>\n",
       "      <td>yes</td>\n",
       "      <td>unknown</td>\n",
       "      <td>9</td>\n",
       "      <td>may</td>\n",
       "      <td>153</td>\n",
       "      <td>1</td>\n",
       "      <td>-1</td>\n",
       "      <td>0</td>\n",
       "      <td>unknown</td>\n",
       "      <td>no</td>\n",
       "    </tr>\n",
       "    <tr>\n",
       "      <th>4518</th>\n",
       "      <td>57</td>\n",
       "      <td>technician</td>\n",
       "      <td>married</td>\n",
       "      <td>secondary</td>\n",
       "      <td>no</td>\n",
       "      <td>295</td>\n",
       "      <td>no</td>\n",
       "      <td>no</td>\n",
       "      <td>cellular</td>\n",
       "      <td>19</td>\n",
       "      <td>aug</td>\n",
       "      <td>151</td>\n",
       "      <td>11</td>\n",
       "      <td>-1</td>\n",
       "      <td>0</td>\n",
       "      <td>unknown</td>\n",
       "      <td>no</td>\n",
       "    </tr>\n",
       "    <tr>\n",
       "      <th>4519</th>\n",
       "      <td>28</td>\n",
       "      <td>blue-collar</td>\n",
       "      <td>married</td>\n",
       "      <td>secondary</td>\n",
       "      <td>no</td>\n",
       "      <td>1137</td>\n",
       "      <td>no</td>\n",
       "      <td>no</td>\n",
       "      <td>cellular</td>\n",
       "      <td>6</td>\n",
       "      <td>feb</td>\n",
       "      <td>129</td>\n",
       "      <td>4</td>\n",
       "      <td>211</td>\n",
       "      <td>3</td>\n",
       "      <td>other</td>\n",
       "      <td>no</td>\n",
       "    </tr>\n",
       "    <tr>\n",
       "      <th>4520</th>\n",
       "      <td>44</td>\n",
       "      <td>entrepreneur</td>\n",
       "      <td>single</td>\n",
       "      <td>tertiary</td>\n",
       "      <td>no</td>\n",
       "      <td>1136</td>\n",
       "      <td>yes</td>\n",
       "      <td>yes</td>\n",
       "      <td>cellular</td>\n",
       "      <td>3</td>\n",
       "      <td>apr</td>\n",
       "      <td>345</td>\n",
       "      <td>2</td>\n",
       "      <td>249</td>\n",
       "      <td>7</td>\n",
       "      <td>other</td>\n",
       "      <td>no</td>\n",
       "    </tr>\n",
       "  </tbody>\n",
       "</table>\n",
       "</div>"
      ],
      "text/plain": [
       "      age            job  marital  education default  balance housing loan  \\\n",
       "4516   33       services  married  secondary      no     -333     yes   no   \n",
       "4517   57  self-employed  married   tertiary     yes    -3313     yes  yes   \n",
       "4518   57     technician  married  secondary      no      295      no   no   \n",
       "4519   28    blue-collar  married  secondary      no     1137      no   no   \n",
       "4520   44   entrepreneur   single   tertiary      no     1136     yes  yes   \n",
       "\n",
       "       contact  day month  duration  campaign  pdays  previous poutcome   y  \n",
       "4516  cellular   30   jul       329         5     -1         0  unknown  no  \n",
       "4517   unknown    9   may       153         1     -1         0  unknown  no  \n",
       "4518  cellular   19   aug       151        11     -1         0  unknown  no  \n",
       "4519  cellular    6   feb       129         4    211         3    other  no  \n",
       "4520  cellular    3   apr       345         2    249         7    other  no  "
      ]
     },
     "execution_count": 458,
     "metadata": {},
     "output_type": "execute_result"
    }
   ],
   "source": [
    "df.tail()"
   ]
  },
  {
   "cell_type": "code",
   "execution_count": 459,
   "id": "d9d2de1a",
   "metadata": {
    "ExecuteTime": {
     "end_time": "2023-02-10T15:05:20.788949Z",
     "start_time": "2023-02-10T15:05:20.777631Z"
    }
   },
   "outputs": [
    {
     "data": {
      "text/plain": [
       "(4521, 17)"
      ]
     },
     "execution_count": 459,
     "metadata": {},
     "output_type": "execute_result"
    }
   ],
   "source": [
    "df.shape"
   ]
  },
  {
   "cell_type": "code",
   "execution_count": 460,
   "id": "2ef3c822",
   "metadata": {
    "ExecuteTime": {
     "end_time": "2023-02-10T15:05:20.850923Z",
     "start_time": "2023-02-10T15:05:20.791932Z"
    }
   },
   "outputs": [
    {
     "data": {
      "text/html": [
       "<div>\n",
       "<style scoped>\n",
       "    .dataframe tbody tr th:only-of-type {\n",
       "        vertical-align: middle;\n",
       "    }\n",
       "\n",
       "    .dataframe tbody tr th {\n",
       "        vertical-align: top;\n",
       "    }\n",
       "\n",
       "    .dataframe thead th {\n",
       "        text-align: right;\n",
       "    }\n",
       "</style>\n",
       "<table border=\"1\" class=\"dataframe\">\n",
       "  <thead>\n",
       "    <tr style=\"text-align: right;\">\n",
       "      <th></th>\n",
       "      <th>age</th>\n",
       "      <th>balance</th>\n",
       "      <th>day</th>\n",
       "      <th>duration</th>\n",
       "      <th>campaign</th>\n",
       "      <th>pdays</th>\n",
       "      <th>previous</th>\n",
       "    </tr>\n",
       "  </thead>\n",
       "  <tbody>\n",
       "    <tr>\n",
       "      <th>count</th>\n",
       "      <td>4521.000000</td>\n",
       "      <td>4521.000000</td>\n",
       "      <td>4521.000000</td>\n",
       "      <td>4521.000000</td>\n",
       "      <td>4521.000000</td>\n",
       "      <td>4521.000000</td>\n",
       "      <td>4521.000000</td>\n",
       "    </tr>\n",
       "    <tr>\n",
       "      <th>mean</th>\n",
       "      <td>41.170095</td>\n",
       "      <td>1422.657819</td>\n",
       "      <td>15.915284</td>\n",
       "      <td>263.961292</td>\n",
       "      <td>2.793630</td>\n",
       "      <td>39.766645</td>\n",
       "      <td>0.542579</td>\n",
       "    </tr>\n",
       "    <tr>\n",
       "      <th>std</th>\n",
       "      <td>10.576211</td>\n",
       "      <td>3009.638142</td>\n",
       "      <td>8.247667</td>\n",
       "      <td>259.856633</td>\n",
       "      <td>3.109807</td>\n",
       "      <td>100.121124</td>\n",
       "      <td>1.693562</td>\n",
       "    </tr>\n",
       "    <tr>\n",
       "      <th>min</th>\n",
       "      <td>19.000000</td>\n",
       "      <td>-3313.000000</td>\n",
       "      <td>1.000000</td>\n",
       "      <td>4.000000</td>\n",
       "      <td>1.000000</td>\n",
       "      <td>-1.000000</td>\n",
       "      <td>0.000000</td>\n",
       "    </tr>\n",
       "    <tr>\n",
       "      <th>25%</th>\n",
       "      <td>33.000000</td>\n",
       "      <td>69.000000</td>\n",
       "      <td>9.000000</td>\n",
       "      <td>104.000000</td>\n",
       "      <td>1.000000</td>\n",
       "      <td>-1.000000</td>\n",
       "      <td>0.000000</td>\n",
       "    </tr>\n",
       "    <tr>\n",
       "      <th>50%</th>\n",
       "      <td>39.000000</td>\n",
       "      <td>444.000000</td>\n",
       "      <td>16.000000</td>\n",
       "      <td>185.000000</td>\n",
       "      <td>2.000000</td>\n",
       "      <td>-1.000000</td>\n",
       "      <td>0.000000</td>\n",
       "    </tr>\n",
       "    <tr>\n",
       "      <th>75%</th>\n",
       "      <td>49.000000</td>\n",
       "      <td>1480.000000</td>\n",
       "      <td>21.000000</td>\n",
       "      <td>329.000000</td>\n",
       "      <td>3.000000</td>\n",
       "      <td>-1.000000</td>\n",
       "      <td>0.000000</td>\n",
       "    </tr>\n",
       "    <tr>\n",
       "      <th>max</th>\n",
       "      <td>87.000000</td>\n",
       "      <td>71188.000000</td>\n",
       "      <td>31.000000</td>\n",
       "      <td>3025.000000</td>\n",
       "      <td>50.000000</td>\n",
       "      <td>871.000000</td>\n",
       "      <td>25.000000</td>\n",
       "    </tr>\n",
       "  </tbody>\n",
       "</table>\n",
       "</div>"
      ],
      "text/plain": [
       "               age       balance          day     duration     campaign  \\\n",
       "count  4521.000000   4521.000000  4521.000000  4521.000000  4521.000000   \n",
       "mean     41.170095   1422.657819    15.915284   263.961292     2.793630   \n",
       "std      10.576211   3009.638142     8.247667   259.856633     3.109807   \n",
       "min      19.000000  -3313.000000     1.000000     4.000000     1.000000   \n",
       "25%      33.000000     69.000000     9.000000   104.000000     1.000000   \n",
       "50%      39.000000    444.000000    16.000000   185.000000     2.000000   \n",
       "75%      49.000000   1480.000000    21.000000   329.000000     3.000000   \n",
       "max      87.000000  71188.000000    31.000000  3025.000000    50.000000   \n",
       "\n",
       "             pdays     previous  \n",
       "count  4521.000000  4521.000000  \n",
       "mean     39.766645     0.542579  \n",
       "std     100.121124     1.693562  \n",
       "min      -1.000000     0.000000  \n",
       "25%      -1.000000     0.000000  \n",
       "50%      -1.000000     0.000000  \n",
       "75%      -1.000000     0.000000  \n",
       "max     871.000000    25.000000  "
      ]
     },
     "execution_count": 460,
     "metadata": {},
     "output_type": "execute_result"
    }
   ],
   "source": [
    "df.describe()"
   ]
  },
  {
   "cell_type": "code",
   "execution_count": 461,
   "id": "7cb7222c",
   "metadata": {
    "ExecuteTime": {
     "end_time": "2023-02-10T15:05:20.881763Z",
     "start_time": "2023-02-10T15:05:20.853923Z"
    }
   },
   "outputs": [
    {
     "name": "stdout",
     "output_type": "stream",
     "text": [
      "<class 'pandas.core.frame.DataFrame'>\n",
      "RangeIndex: 4521 entries, 0 to 4520\n",
      "Data columns (total 17 columns):\n",
      " #   Column     Non-Null Count  Dtype \n",
      "---  ------     --------------  ----- \n",
      " 0   age        4521 non-null   int64 \n",
      " 1   job        4521 non-null   object\n",
      " 2   marital    4521 non-null   object\n",
      " 3   education  4521 non-null   object\n",
      " 4   default    4521 non-null   object\n",
      " 5   balance    4521 non-null   int64 \n",
      " 6   housing    4521 non-null   object\n",
      " 7   loan       4521 non-null   object\n",
      " 8   contact    4521 non-null   object\n",
      " 9   day        4521 non-null   int64 \n",
      " 10  month      4521 non-null   object\n",
      " 11  duration   4521 non-null   int64 \n",
      " 12  campaign   4521 non-null   int64 \n",
      " 13  pdays      4521 non-null   int64 \n",
      " 14  previous   4521 non-null   int64 \n",
      " 15  poutcome   4521 non-null   object\n",
      " 16  y          4521 non-null   object\n",
      "dtypes: int64(7), object(10)\n",
      "memory usage: 600.6+ KB\n"
     ]
    }
   ],
   "source": [
    "df.info()"
   ]
  },
  {
   "cell_type": "code",
   "execution_count": 462,
   "id": "fbf0d826",
   "metadata": {
    "ExecuteTime": {
     "end_time": "2023-02-10T15:05:20.912863Z",
     "start_time": "2023-02-10T15:05:20.885121Z"
    }
   },
   "outputs": [
    {
     "data": {
      "text/plain": [
       "age          0\n",
       "job          0\n",
       "marital      0\n",
       "education    0\n",
       "default      0\n",
       "balance      0\n",
       "housing      0\n",
       "loan         0\n",
       "contact      0\n",
       "day          0\n",
       "month        0\n",
       "duration     0\n",
       "campaign     0\n",
       "pdays        0\n",
       "previous     0\n",
       "poutcome     0\n",
       "y            0\n",
       "dtype: int64"
      ]
     },
     "execution_count": 462,
     "metadata": {},
     "output_type": "execute_result"
    }
   ],
   "source": [
    "df.isnull().sum()"
   ]
  },
  {
   "cell_type": "code",
   "execution_count": 463,
   "id": "74089ea7",
   "metadata": {
    "ExecuteTime": {
     "end_time": "2023-02-10T15:05:20.943848Z",
     "start_time": "2023-02-10T15:05:20.916434Z"
    }
   },
   "outputs": [
    {
     "data": {
      "text/plain": [
       "0"
      ]
     },
     "execution_count": 463,
     "metadata": {},
     "output_type": "execute_result"
    }
   ],
   "source": [
    "df.duplicated().sum()"
   ]
  },
  {
   "cell_type": "code",
   "execution_count": 464,
   "id": "72acda00",
   "metadata": {
    "ExecuteTime": {
     "end_time": "2023-02-10T15:05:20.960048Z",
     "start_time": "2023-02-10T15:05:20.950850Z"
    }
   },
   "outputs": [
    {
     "data": {
      "text/plain": [
       "Index(['age', 'job', 'marital', 'education', 'default', 'balance', 'housing',\n",
       "       'loan', 'contact', 'day', 'month', 'duration', 'campaign', 'pdays',\n",
       "       'previous', 'poutcome', 'y'],\n",
       "      dtype='object')"
      ]
     },
     "execution_count": 464,
     "metadata": {},
     "output_type": "execute_result"
    }
   ],
   "source": [
    "df.columns"
   ]
  },
  {
   "cell_type": "markdown",
   "id": "3d2b0e1f",
   "metadata": {},
   "source": [
    "# Data Visualization"
   ]
  },
  {
   "cell_type": "code",
   "execution_count": 465,
   "id": "012a033e",
   "metadata": {
    "ExecuteTime": {
     "end_time": "2023-02-10T15:05:21.195214Z",
     "start_time": "2023-02-10T15:05:20.963417Z"
    }
   },
   "outputs": [
    {
     "data": {
      "text/plain": [
       "<AxesSubplot:xlabel='y', ylabel='count'>"
      ]
     },
     "execution_count": 465,
     "metadata": {},
     "output_type": "execute_result"
    },
    {
     "data": {
      "image/png": "[encoded data removed]",
      "text/plain": [
       "<Figure size 432x288 with 1 Axes>"
      ]
     },
     "metadata": {
      "needs_background": "light"
     },
     "output_type": "display_data"
    }
   ],
   "source": [
    "df[\"y\"].value_counts()\n",
    "sns.countplot(data=df,x=y, hue=y)"
   ]
  },
  {
   "cell_type": "code",
   "execution_count": 466,
   "id": "acc9542c",
   "metadata": {
    "ExecuteTime": {
     "end_time": "2023-02-10T15:05:22.270033Z",
     "start_time": "2023-02-10T15:05:21.198502Z"
    }
   },
   "outputs": [
    {
     "data": {
      "text/plain": [
       "<AxesSubplot:>"
      ]
     },
     "execution_count": 466,
     "metadata": {},
     "output_type": "execute_result"
    },
    {
     "data": {
      "image/png": "[encoded data removed]",
      "text/plain": [
       "<Figure size 720x720 with 1 Axes>"
      ]
     },
     "metadata": {
      "needs_background": "light"
     },
     "output_type": "display_data"
    }
   ],
   "source": [
    "plt.figure(figsize=(10,10))\n",
    "sns.barplot(data=df)"
   ]
  },
  {
   "cell_type": "code",
   "execution_count": 467,
   "id": "1a88dba5",
   "metadata": {
    "ExecuteTime": {
     "end_time": "2023-02-10T15:05:22.316277Z",
     "start_time": "2023-02-10T15:05:22.273580Z"
    }
   },
   "outputs": [
    {
     "data": {
      "text/html": [
       "<div>\n",
       "<style scoped>\n",
       "    .dataframe tbody tr th:only-of-type {\n",
       "        vertical-align: middle;\n",
       "    }\n",
       "\n",
       "    .dataframe tbody tr th {\n",
       "        vertical-align: top;\n",
       "    }\n",
       "\n",
       "    .dataframe thead th {\n",
       "        text-align: right;\n",
       "    }\n",
       "</style>\n",
       "<table border=\"1\" class=\"dataframe\">\n",
       "  <thead>\n",
       "    <tr style=\"text-align: right;\">\n",
       "      <th>y</th>\n",
       "      <th>no</th>\n",
       "      <th>yes</th>\n",
       "    </tr>\n",
       "    <tr>\n",
       "      <th>job</th>\n",
       "      <th></th>\n",
       "      <th></th>\n",
       "    </tr>\n",
       "  </thead>\n",
       "  <tbody>\n",
       "    <tr>\n",
       "      <th>admin.</th>\n",
       "      <td>420</td>\n",
       "      <td>58</td>\n",
       "    </tr>\n",
       "    <tr>\n",
       "      <th>blue-collar</th>\n",
       "      <td>877</td>\n",
       "      <td>69</td>\n",
       "    </tr>\n",
       "    <tr>\n",
       "      <th>entrepreneur</th>\n",
       "      <td>153</td>\n",
       "      <td>15</td>\n",
       "    </tr>\n",
       "    <tr>\n",
       "      <th>housemaid</th>\n",
       "      <td>98</td>\n",
       "      <td>14</td>\n",
       "    </tr>\n",
       "    <tr>\n",
       "      <th>management</th>\n",
       "      <td>838</td>\n",
       "      <td>131</td>\n",
       "    </tr>\n",
       "    <tr>\n",
       "      <th>retired</th>\n",
       "      <td>176</td>\n",
       "      <td>54</td>\n",
       "    </tr>\n",
       "    <tr>\n",
       "      <th>self-employed</th>\n",
       "      <td>163</td>\n",
       "      <td>20</td>\n",
       "    </tr>\n",
       "    <tr>\n",
       "      <th>services</th>\n",
       "      <td>379</td>\n",
       "      <td>38</td>\n",
       "    </tr>\n",
       "    <tr>\n",
       "      <th>student</th>\n",
       "      <td>65</td>\n",
       "      <td>19</td>\n",
       "    </tr>\n",
       "    <tr>\n",
       "      <th>technician</th>\n",
       "      <td>685</td>\n",
       "      <td>83</td>\n",
       "    </tr>\n",
       "    <tr>\n",
       "      <th>unemployed</th>\n",
       "      <td>115</td>\n",
       "      <td>13</td>\n",
       "    </tr>\n",
       "    <tr>\n",
       "      <th>unknown</th>\n",
       "      <td>31</td>\n",
       "      <td>7</td>\n",
       "    </tr>\n",
       "  </tbody>\n",
       "</table>\n",
       "</div>"
      ],
      "text/plain": [
       "y               no  yes\n",
       "job                    \n",
       "admin.         420   58\n",
       "blue-collar    877   69\n",
       "entrepreneur   153   15\n",
       "housemaid       98   14\n",
       "management     838  131\n",
       "retired        176   54\n",
       "self-employed  163   20\n",
       "services       379   38\n",
       "student         65   19\n",
       "technician     685   83\n",
       "unemployed     115   13\n",
       "unknown         31    7"
      ]
     },
     "execution_count": 467,
     "metadata": {},
     "output_type": "execute_result"
    }
   ],
   "source": [
    "vis1=pd.crosstab(df.job,df.y)\n",
    "vis1"
   ]
  },
  {
   "cell_type": "code",
   "execution_count": 468,
   "id": "1eeca684",
   "metadata": {
    "ExecuteTime": {
     "end_time": "2023-02-10T15:05:22.661266Z",
     "start_time": "2023-02-10T15:05:22.319813Z"
    }
   },
   "outputs": [
    {
     "data": {
      "image/png": "[encoded data removed]",
      "text/plain": [
       "<Figure size 432x288 with 1 Axes>"
      ]
     },
     "metadata": {
      "needs_background": "light"
     },
     "output_type": "display_data"
    }
   ],
   "source": [
    "vis1.plot(kind=\"bar\",stacked=True);"
   ]
  },
  {
   "cell_type": "code",
   "execution_count": 469,
   "id": "ed196ddc",
   "metadata": {
    "ExecuteTime": {
     "end_time": "2023-02-10T15:05:22.707608Z",
     "start_time": "2023-02-10T15:05:22.664283Z"
    }
   },
   "outputs": [
    {
     "data": {
      "text/html": [
       "<div>\n",
       "<style scoped>\n",
       "    .dataframe tbody tr th:only-of-type {\n",
       "        vertical-align: middle;\n",
       "    }\n",
       "\n",
       "    .dataframe tbody tr th {\n",
       "        vertical-align: top;\n",
       "    }\n",
       "\n",
       "    .dataframe thead th {\n",
       "        text-align: right;\n",
       "    }\n",
       "</style>\n",
       "<table border=\"1\" class=\"dataframe\">\n",
       "  <thead>\n",
       "    <tr style=\"text-align: right;\">\n",
       "      <th>y</th>\n",
       "      <th>no</th>\n",
       "      <th>yes</th>\n",
       "    </tr>\n",
       "    <tr>\n",
       "      <th>marital</th>\n",
       "      <th></th>\n",
       "      <th></th>\n",
       "    </tr>\n",
       "  </thead>\n",
       "  <tbody>\n",
       "    <tr>\n",
       "      <th>divorced</th>\n",
       "      <td>451</td>\n",
       "      <td>77</td>\n",
       "    </tr>\n",
       "    <tr>\n",
       "      <th>married</th>\n",
       "      <td>2520</td>\n",
       "      <td>277</td>\n",
       "    </tr>\n",
       "    <tr>\n",
       "      <th>single</th>\n",
       "      <td>1029</td>\n",
       "      <td>167</td>\n",
       "    </tr>\n",
       "  </tbody>\n",
       "</table>\n",
       "</div>"
      ],
      "text/plain": [
       "y           no  yes\n",
       "marital            \n",
       "divorced   451   77\n",
       "married   2520  277\n",
       "single    1029  167"
      ]
     },
     "execution_count": 469,
     "metadata": {},
     "output_type": "execute_result"
    }
   ],
   "source": [
    "vis2=pd.crosstab(df.marital,df.y)\n",
    "vis2\n"
   ]
  },
  {
   "cell_type": "code",
   "execution_count": 470,
   "id": "3bd25859",
   "metadata": {
    "ExecuteTime": {
     "end_time": "2023-02-10T15:05:22.925001Z",
     "start_time": "2023-02-10T15:05:22.710841Z"
    }
   },
   "outputs": [
    {
     "data": {
      "image/png": "[encoded data removed]",
      "text/plain": [
       "<Figure size 432x288 with 1 Axes>"
      ]
     },
     "metadata": {
      "needs_background": "light"
     },
     "output_type": "display_data"
    }
   ],
   "source": [
    "vis2.plot(kind=\"bar\",stacked=True);"
   ]
  },
  {
   "cell_type": "code",
   "execution_count": 471,
   "id": "de5516a6",
   "metadata": {
    "ExecuteTime": {
     "end_time": "2023-02-10T15:05:22.956338Z",
     "start_time": "2023-02-10T15:05:22.927937Z"
    }
   },
   "outputs": [
    {
     "data": {
      "text/html": [
       "<div>\n",
       "<style scoped>\n",
       "    .dataframe tbody tr th:only-of-type {\n",
       "        vertical-align: middle;\n",
       "    }\n",
       "\n",
       "    .dataframe tbody tr th {\n",
       "        vertical-align: top;\n",
       "    }\n",
       "\n",
       "    .dataframe thead th {\n",
       "        text-align: right;\n",
       "    }\n",
       "</style>\n",
       "<table border=\"1\" class=\"dataframe\">\n",
       "  <thead>\n",
       "    <tr style=\"text-align: right;\">\n",
       "      <th>y</th>\n",
       "      <th>no</th>\n",
       "      <th>yes</th>\n",
       "    </tr>\n",
       "    <tr>\n",
       "      <th>education</th>\n",
       "      <th></th>\n",
       "      <th></th>\n",
       "    </tr>\n",
       "  </thead>\n",
       "  <tbody>\n",
       "    <tr>\n",
       "      <th>primary</th>\n",
       "      <td>614</td>\n",
       "      <td>64</td>\n",
       "    </tr>\n",
       "    <tr>\n",
       "      <th>secondary</th>\n",
       "      <td>2061</td>\n",
       "      <td>245</td>\n",
       "    </tr>\n",
       "    <tr>\n",
       "      <th>tertiary</th>\n",
       "      <td>1157</td>\n",
       "      <td>193</td>\n",
       "    </tr>\n",
       "    <tr>\n",
       "      <th>unknown</th>\n",
       "      <td>168</td>\n",
       "      <td>19</td>\n",
       "    </tr>\n",
       "  </tbody>\n",
       "</table>\n",
       "</div>"
      ],
      "text/plain": [
       "y            no  yes\n",
       "education           \n",
       "primary     614   64\n",
       "secondary  2061  245\n",
       "tertiary   1157  193\n",
       "unknown     168   19"
      ]
     },
     "execution_count": 471,
     "metadata": {},
     "output_type": "execute_result"
    }
   ],
   "source": [
    "vis3=pd.crosstab(df.education,df.y)\n",
    "vis3\n"
   ]
  },
  {
   "cell_type": "code",
   "execution_count": 472,
   "id": "be9d8660",
   "metadata": {
    "ExecuteTime": {
     "end_time": "2023-02-10T15:05:23.174049Z",
     "start_time": "2023-02-10T15:05:22.961069Z"
    }
   },
   "outputs": [
    {
     "data": {
      "image/png": "[encoded data removed]",
      "text/plain": [
       "<Figure size 432x288 with 1 Axes>"
      ]
     },
     "metadata": {
      "needs_background": "light"
     },
     "output_type": "display_data"
    }
   ],
   "source": [
    "vis3.plot(kind=\"bar\",stacked=True);"
   ]
  },
  {
   "cell_type": "code",
   "execution_count": 473,
   "id": "c14d7fe4",
   "metadata": {
    "ExecuteTime": {
     "end_time": "2023-02-10T15:05:23.206505Z",
     "start_time": "2023-02-10T15:05:23.176192Z"
    }
   },
   "outputs": [
    {
     "data": {
      "text/html": [
       "<div>\n",
       "<style scoped>\n",
       "    .dataframe tbody tr th:only-of-type {\n",
       "        vertical-align: middle;\n",
       "    }\n",
       "\n",
       "    .dataframe tbody tr th {\n",
       "        vertical-align: top;\n",
       "    }\n",
       "\n",
       "    .dataframe thead th {\n",
       "        text-align: right;\n",
       "    }\n",
       "</style>\n",
       "<table border=\"1\" class=\"dataframe\">\n",
       "  <thead>\n",
       "    <tr style=\"text-align: right;\">\n",
       "      <th>y</th>\n",
       "      <th>no</th>\n",
       "      <th>yes</th>\n",
       "    </tr>\n",
       "    <tr>\n",
       "      <th>default</th>\n",
       "      <th></th>\n",
       "      <th></th>\n",
       "    </tr>\n",
       "  </thead>\n",
       "  <tbody>\n",
       "    <tr>\n",
       "      <th>no</th>\n",
       "      <td>3933</td>\n",
       "      <td>512</td>\n",
       "    </tr>\n",
       "    <tr>\n",
       "      <th>yes</th>\n",
       "      <td>67</td>\n",
       "      <td>9</td>\n",
       "    </tr>\n",
       "  </tbody>\n",
       "</table>\n",
       "</div>"
      ],
      "text/plain": [
       "y          no  yes\n",
       "default           \n",
       "no       3933  512\n",
       "yes        67    9"
      ]
     },
     "execution_count": 473,
     "metadata": {},
     "output_type": "execute_result"
    }
   ],
   "source": [
    "vis4=pd.crosstab(df.default,df.y)\n",
    "vis4\n"
   ]
  },
  {
   "cell_type": "code",
   "execution_count": 474,
   "id": "4f11682b",
   "metadata": {
    "ExecuteTime": {
     "end_time": "2023-02-10T15:05:23.393876Z",
     "start_time": "2023-02-10T15:05:23.208956Z"
    }
   },
   "outputs": [
    {
     "data": {
      "image/png": "[encoded data removed]",
      "text/plain": [
       "<Figure size 432x288 with 1 Axes>"
      ]
     },
     "metadata": {
      "needs_background": "light"
     },
     "output_type": "display_data"
    }
   ],
   "source": [
    "vis4.plot(kind=\"bar\",stacked=True);"
   ]
  },
  {
   "cell_type": "code",
   "execution_count": 475,
   "id": "c6ee9e37",
   "metadata": {
    "ExecuteTime": {
     "end_time": "2023-02-10T15:05:23.613765Z",
     "start_time": "2023-02-10T15:05:23.396960Z"
    }
   },
   "outputs": [
    {
     "data": {
      "image/png": "[encoded data removed]",
      "text/plain": [
       "<Figure size 432x288 with 1 Axes>"
      ]
     },
     "metadata": {
      "needs_background": "light"
     },
     "output_type": "display_data"
    }
   ],
   "source": [
    "vis5=pd.crosstab(df.loan,df.y)\n",
    "vis5\n",
    "vis5.plot(kind=\"bar\",stacked=True);"
   ]
  },
  {
   "cell_type": "code",
   "execution_count": 476,
   "id": "04180b38",
   "metadata": {
    "ExecuteTime": {
     "end_time": "2023-02-10T15:05:23.831158Z",
     "start_time": "2023-02-10T15:05:23.615922Z"
    }
   },
   "outputs": [
    {
     "data": {
      "image/png": "[encoded data removed]",
      "text/plain": [
       "<Figure size 432x288 with 1 Axes>"
      ]
     },
     "metadata": {
      "needs_background": "light"
     },
     "output_type": "display_data"
    }
   ],
   "source": [
    "vis6=pd.crosstab(df.housing,df.y)\n",
    "vis6\n",
    "vis6.plot(kind=\"bar\",stacked=True);"
   ]
  },
  {
   "cell_type": "code",
   "execution_count": 477,
   "id": "1449bdd5",
   "metadata": {
    "ExecuteTime": {
     "end_time": "2023-02-10T15:05:24.094988Z",
     "start_time": "2023-02-10T15:05:23.834382Z"
    }
   },
   "outputs": [
    {
     "data": {
      "image/png": "[encoded data removed]",
      "text/plain": [
       "<Figure size 432x288 with 1 Axes>"
      ]
     },
     "metadata": {
      "needs_background": "light"
     },
     "output_type": "display_data"
    }
   ],
   "source": [
    "vis7=pd.crosstab(df.contact,df.y)\n",
    "vis7\n",
    "vis7.plot(kind=\"bar\",stacked=True);"
   ]
  },
  {
   "cell_type": "code",
   "execution_count": 478,
   "id": "e68ab9e7",
   "metadata": {
    "ExecuteTime": {
     "end_time": "2023-02-10T15:05:24.406605Z",
     "start_time": "2023-02-10T15:05:24.098111Z"
    }
   },
   "outputs": [
    {
     "data": {
      "image/png": "[encoded data removed]",
      "text/plain": [
       "<Figure size 432x288 with 1 Axes>"
      ]
     },
     "metadata": {
      "needs_background": "light"
     },
     "output_type": "display_data"
    }
   ],
   "source": [
    "vis8=pd.crosstab(df. month,df.y)\n",
    "vis8\n",
    "vis8.plot(kind=\"bar\",stacked=True);"
   ]
  },
  {
   "cell_type": "code",
   "execution_count": 479,
   "id": "73273dc7",
   "metadata": {
    "ExecuteTime": {
     "end_time": "2023-02-10T15:05:24.657506Z",
     "start_time": "2023-02-10T15:05:24.410100Z"
    }
   },
   "outputs": [
    {
     "data": {
      "image/png": "[encoded data removed]",
      "text/plain": [
       "<Figure size 432x288 with 1 Axes>"
      ]
     },
     "metadata": {
      "needs_background": "light"
     },
     "output_type": "display_data"
    }
   ],
   "source": [
    "vis9=pd.crosstab(df.poutcome,df.y)\n",
    "vis9\n",
    "vis9.plot(kind=\"bar\",stacked=True);"
   ]
  },
  {
   "cell_type": "code",
   "execution_count": 480,
   "id": "25b8e88c",
   "metadata": {
    "ExecuteTime": {
     "end_time": "2023-02-10T15:05:25.190312Z",
     "start_time": "2023-02-10T15:05:24.661635Z"
    }
   },
   "outputs": [
    {
     "name": "stderr",
     "output_type": "stream",
     "text": [
      "C:\\Users\\Apeksha\\anaconda3\\lib\\site-packages\\seaborn\\distributions.py:2619: FutureWarning: `distplot` is a deprecated function and will be removed in a future version. Please adapt your code to use either `displot` (a figure-level function with similar flexibility) or `histplot` (an axes-level function for histograms).\n",
      "  warnings.warn(msg, FutureWarning)\n"
     ]
    },
    {
     "data": {
      "text/plain": [
       "<AxesSubplot:xlabel='age', ylabel='Density'>"
      ]
     },
     "execution_count": 480,
     "metadata": {},
     "output_type": "execute_result"
    },
    {
     "data": {
      "image/png": "[encoded data removed]",
      "text/plain": [
       "<Figure size 432x288 with 1 Axes>"
      ]
     },
     "metadata": {
      "needs_background": "light"
     },
     "output_type": "display_data"
    }
   ],
   "source": [
    "sns.distplot(df.age,hist=True,kde=True,bins=int(100))"
   ]
  },
  {
   "cell_type": "code",
   "execution_count": 481,
   "id": "23cff2a6",
   "metadata": {
    "ExecuteTime": {
     "end_time": "2023-02-10T15:05:25.221492Z",
     "start_time": "2023-02-10T15:05:25.193432Z"
    },
    "scrolled": true
   },
   "outputs": [
    {
     "name": "stdout",
     "output_type": "stream",
     "text": [
      "<class 'pandas.core.frame.DataFrame'>\n",
      "RangeIndex: 4521 entries, 0 to 4520\n",
      "Data columns (total 17 columns):\n",
      " #   Column     Non-Null Count  Dtype \n",
      "---  ------     --------------  ----- \n",
      " 0   age        4521 non-null   int64 \n",
      " 1   job        4521 non-null   object\n",
      " 2   marital    4521 non-null   object\n",
      " 3   education  4521 non-null   object\n",
      " 4   default    4521 non-null   object\n",
      " 5   balance    4521 non-null   int64 \n",
      " 6   housing    4521 non-null   object\n",
      " 7   loan       4521 non-null   object\n",
      " 8   contact    4521 non-null   object\n",
      " 9   day        4521 non-null   int64 \n",
      " 10  month      4521 non-null   object\n",
      " 11  duration   4521 non-null   int64 \n",
      " 12  campaign   4521 non-null   int64 \n",
      " 13  pdays      4521 non-null   int64 \n",
      " 14  previous   4521 non-null   int64 \n",
      " 15  poutcome   4521 non-null   object\n",
      " 16  y          4521 non-null   object\n",
      "dtypes: int64(7), object(10)\n",
      "memory usage: 600.6+ KB\n"
     ]
    }
   ],
   "source": [
    "df.info()"
   ]
  },
  {
   "cell_type": "code",
   "execution_count": 482,
   "id": "e6cc166e",
   "metadata": {
    "ExecuteTime": {
     "end_time": "2023-02-10T15:05:25.861679Z",
     "start_time": "2023-02-10T15:05:25.230368Z"
    }
   },
   "outputs": [
    {
     "name": "stderr",
     "output_type": "stream",
     "text": [
      "C:\\Users\\Apeksha\\anaconda3\\lib\\site-packages\\seaborn\\distributions.py:2619: FutureWarning: `distplot` is a deprecated function and will be removed in a future version. Please adapt your code to use either `displot` (a figure-level function with similar flexibility) or `histplot` (an axes-level function for histograms).\n",
      "  warnings.warn(msg, FutureWarning)\n"
     ]
    },
    {
     "data": {
      "text/plain": [
       "<AxesSubplot:xlabel='balance', ylabel='Density'>"
      ]
     },
     "execution_count": 482,
     "metadata": {},
     "output_type": "execute_result"
    },
    {
     "data": {
      "image/png": "[encoded data removed]",
      "text/plain": [
       "<Figure size 1080x720 with 1 Axes>"
      ]
     },
     "metadata": {
      "needs_background": "light"
     },
     "output_type": "display_data"
    }
   ],
   "source": [
    "plt.figure(figsize=(15,10))\n",
    "sns.distplot(df.balance,hist=True,kde=True,bins=int(100))"
   ]
  },
  {
   "cell_type": "code",
   "execution_count": 483,
   "id": "c3331cd8",
   "metadata": {
    "ExecuteTime": {
     "end_time": "2023-02-10T15:05:26.268719Z",
     "start_time": "2023-02-10T15:05:25.864239Z"
    }
   },
   "outputs": [
    {
     "name": "stderr",
     "output_type": "stream",
     "text": [
      "C:\\Users\\Apeksha\\anaconda3\\lib\\site-packages\\seaborn\\distributions.py:2619: FutureWarning: `distplot` is a deprecated function and will be removed in a future version. Please adapt your code to use either `displot` (a figure-level function with similar flexibility) or `histplot` (an axes-level function for histograms).\n",
      "  warnings.warn(msg, FutureWarning)\n"
     ]
    },
    {
     "data": {
      "text/plain": [
       "<AxesSubplot:xlabel='day', ylabel='Density'>"
      ]
     },
     "execution_count": 483,
     "metadata": {},
     "output_type": "execute_result"
    },
    {
     "data": {
      "image/png": "[encoded data removed]",
      "text/plain": [
       "<Figure size 432x288 with 1 Axes>"
      ]
     },
     "metadata": {
      "needs_background": "light"
     },
     "output_type": "display_data"
    }
   ],
   "source": [
    "sns.distplot(df.day,hist=True,kde=True,bins=int(60))"
   ]
  },
  {
   "cell_type": "code",
   "execution_count": 484,
   "id": "be915c51",
   "metadata": {
    "ExecuteTime": {
     "end_time": "2023-02-10T15:05:26.792940Z",
     "start_time": "2023-02-10T15:05:26.272539Z"
    }
   },
   "outputs": [
    {
     "name": "stderr",
     "output_type": "stream",
     "text": [
      "C:\\Users\\Apeksha\\anaconda3\\lib\\site-packages\\seaborn\\distributions.py:2619: FutureWarning: `distplot` is a deprecated function and will be removed in a future version. Please adapt your code to use either `displot` (a figure-level function with similar flexibility) or `histplot` (an axes-level function for histograms).\n",
      "  warnings.warn(msg, FutureWarning)\n"
     ]
    },
    {
     "data": {
      "text/plain": [
       "<AxesSubplot:xlabel='duration', ylabel='Density'>"
      ]
     },
     "execution_count": 484,
     "metadata": {},
     "output_type": "execute_result"
    },
    {
     "data": {
      "image/png": "[encoded data removed]",
      "text/plain": [
       "<Figure size 432x288 with 1 Axes>"
      ]
     },
     "metadata": {
      "needs_background": "light"
     },
     "output_type": "display_data"
    }
   ],
   "source": [
    "sns.distplot(df.duration ,hist=True,kde=True,bins=int(100))"
   ]
  },
  {
   "cell_type": "code",
   "execution_count": 485,
   "id": "92912aa9",
   "metadata": {
    "ExecuteTime": {
     "end_time": "2023-02-10T15:05:27.220502Z",
     "start_time": "2023-02-10T15:05:26.795941Z"
    }
   },
   "outputs": [
    {
     "name": "stderr",
     "output_type": "stream",
     "text": [
      "C:\\Users\\Apeksha\\anaconda3\\lib\\site-packages\\seaborn\\distributions.py:2619: FutureWarning: `distplot` is a deprecated function and will be removed in a future version. Please adapt your code to use either `displot` (a figure-level function with similar flexibility) or `histplot` (an axes-level function for histograms).\n",
      "  warnings.warn(msg, FutureWarning)\n"
     ]
    },
    {
     "data": {
      "text/plain": [
       "<AxesSubplot:xlabel='campaign', ylabel='Density'>"
      ]
     },
     "execution_count": 485,
     "metadata": {},
     "output_type": "execute_result"
    },
    {
     "data": {
      "image/png": "[encoded data removed]",
      "text/plain": [
       "<Figure size 432x288 with 1 Axes>"
      ]
     },
     "metadata": {
      "needs_background": "light"
     },
     "output_type": "display_data"
    }
   ],
   "source": [
    "sns.distplot(df.campaign ,hist=True,kde=True,bins=int(60))"
   ]
  },
  {
   "cell_type": "code",
   "execution_count": 486,
   "id": "072fe75d",
   "metadata": {
    "ExecuteTime": {
     "end_time": "2023-02-10T15:05:27.597272Z",
     "start_time": "2023-02-10T15:05:27.223502Z"
    }
   },
   "outputs": [
    {
     "name": "stderr",
     "output_type": "stream",
     "text": [
      "C:\\Users\\Apeksha\\anaconda3\\lib\\site-packages\\seaborn\\distributions.py:2619: FutureWarning: `distplot` is a deprecated function and will be removed in a future version. Please adapt your code to use either `displot` (a figure-level function with similar flexibility) or `histplot` (an axes-level function for histograms).\n",
      "  warnings.warn(msg, FutureWarning)\n"
     ]
    },
    {
     "data": {
      "text/plain": [
       "<AxesSubplot:xlabel='pdays', ylabel='Density'>"
      ]
     },
     "execution_count": 486,
     "metadata": {},
     "output_type": "execute_result"
    },
    {
     "data": {
      "image/png": "[encoded data removed]",
      "text/plain": [
       "<Figure size 432x288 with 1 Axes>"
      ]
     },
     "metadata": {
      "needs_background": "light"
     },
     "output_type": "display_data"
    }
   ],
   "source": [
    "sns.distplot(df.pdays,hist=True,kde=True,bins=int(50))"
   ]
  },
  {
   "cell_type": "code",
   "execution_count": 487,
   "id": "170227c4",
   "metadata": {
    "ExecuteTime": {
     "end_time": "2023-02-10T15:05:28.019637Z",
     "start_time": "2023-02-10T15:05:27.600382Z"
    },
    "scrolled": false
   },
   "outputs": [
    {
     "name": "stderr",
     "output_type": "stream",
     "text": [
      "C:\\Users\\Apeksha\\anaconda3\\lib\\site-packages\\seaborn\\distributions.py:2619: FutureWarning: `distplot` is a deprecated function and will be removed in a future version. Please adapt your code to use either `displot` (a figure-level function with similar flexibility) or `histplot` (an axes-level function for histograms).\n",
      "  warnings.warn(msg, FutureWarning)\n"
     ]
    },
    {
     "data": {
      "text/plain": [
       "<AxesSubplot:xlabel='previous', ylabel='Density'>"
      ]
     },
     "execution_count": 487,
     "metadata": {},
     "output_type": "execute_result"
    },
    {
     "data": {
      "image/png": "[encoded data removed]",
      "text/plain": [
       "<Figure size 432x288 with 1 Axes>"
      ]
     },
     "metadata": {
      "needs_background": "light"
     },
     "output_type": "display_data"
    }
   ],
   "source": [
    "sns.distplot(df.previous,hist=True,kde=True)"
   ]
  },
  {
   "cell_type": "markdown",
   "id": "329caf1d",
   "metadata": {},
   "source": [
    "# Outliers Detection"
   ]
  },
  {
   "cell_type": "code",
   "execution_count": 488,
   "id": "ae5dfbb2",
   "metadata": {
    "ExecuteTime": {
     "end_time": "2023-02-10T15:05:29.551384Z",
     "start_time": "2023-02-10T15:05:28.022774Z"
    }
   },
   "outputs": [
    {
     "data": {
      "image/png": "[encoded data removed]",
      "text/plain": [
       "<Figure size 864x648 with 5 Axes>"
      ]
     },
     "metadata": {
      "needs_background": "light"
     },
     "output_type": "display_data"
    }
   ],
   "source": [
    "plt.figure(figsize=(12,9))\n",
    "plt.subplot(151)\n",
    "plt.boxplot(df.age)\n",
    "plt.subplot(152)\n",
    "plt.boxplot(df.balance)\n",
    "plt.subplot(153)\n",
    "plt.boxplot(df.campaign)\n",
    "plt.subplot(154)\n",
    "plt.boxplot(df.pdays)\n",
    "plt.subplot(155)\n",
    "plt.boxplot(df.previous)\n",
    "plt.tight_layout()"
   ]
  },
  {
   "cell_type": "markdown",
   "id": "41a69d44",
   "metadata": {},
   "source": [
    "# Data Cleaning"
   ]
  },
  {
   "cell_type": "code",
   "execution_count": 489,
   "id": "3e2c5be1",
   "metadata": {
    "ExecuteTime": {
     "end_time": "2023-02-10T15:05:29.582027Z",
     "start_time": "2023-02-10T15:05:29.555561Z"
    },
    "scrolled": false
   },
   "outputs": [
    {
     "data": {
      "text/html": [
       "<div>\n",
       "<style scoped>\n",
       "    .dataframe tbody tr th:only-of-type {\n",
       "        vertical-align: middle;\n",
       "    }\n",
       "\n",
       "    .dataframe tbody tr th {\n",
       "        vertical-align: top;\n",
       "    }\n",
       "\n",
       "    .dataframe thead th {\n",
       "        text-align: right;\n",
       "    }\n",
       "</style>\n",
       "<table border=\"1\" class=\"dataframe\">\n",
       "  <thead>\n",
       "    <tr style=\"text-align: right;\">\n",
       "      <th></th>\n",
       "      <th>housing</th>\n",
       "      <th>loan</th>\n",
       "      <th>age</th>\n",
       "    </tr>\n",
       "  </thead>\n",
       "  <tbody>\n",
       "    <tr>\n",
       "      <th>0</th>\n",
       "      <td>no</td>\n",
       "      <td>no</td>\n",
       "      <td>43.470483</td>\n",
       "    </tr>\n",
       "    <tr>\n",
       "      <th>1</th>\n",
       "      <td>no</td>\n",
       "      <td>yes</td>\n",
       "      <td>43.754386</td>\n",
       "    </tr>\n",
       "    <tr>\n",
       "      <th>2</th>\n",
       "      <td>yes</td>\n",
       "      <td>no</td>\n",
       "      <td>39.468184</td>\n",
       "    </tr>\n",
       "    <tr>\n",
       "      <th>3</th>\n",
       "      <td>yes</td>\n",
       "      <td>yes</td>\n",
       "      <td>38.879310</td>\n",
       "    </tr>\n",
       "  </tbody>\n",
       "</table>\n",
       "</div>"
      ],
      "text/plain": [
       "  housing loan        age\n",
       "0      no   no  43.470483\n",
       "1      no  yes  43.754386\n",
       "2     yes   no  39.468184\n",
       "3     yes  yes  38.879310"
      ]
     },
     "execution_count": 489,
     "metadata": {},
     "output_type": "execute_result"
    }
   ],
   "source": [
    "df.groupby([\"housing\",\"loan\"],as_index=False)[\"age\"].mean()"
   ]
  },
  {
   "cell_type": "code",
   "execution_count": 490,
   "id": "c3d839e8",
   "metadata": {
    "ExecuteTime": {
     "end_time": "2023-02-10T15:05:29.815717Z",
     "start_time": "2023-02-10T15:05:29.585028Z"
    }
   },
   "outputs": [
    {
     "data": {
      "text/plain": [
       "<AxesSubplot:xlabel='marital,y'>"
      ]
     },
     "execution_count": 490,
     "metadata": {},
     "output_type": "execute_result"
    },
    {
     "data": {
      "image/png": "[encoded data removed]",
      "text/plain": [
       "<Figure size 432x288 with 1 Axes>"
      ]
     },
     "metadata": {
      "needs_background": "light"
     },
     "output_type": "display_data"
    }
   ],
   "source": [
    "df.groupby([\"marital\",\"y\"])[\"age\"].count().plot(kind = \"bar\")"
   ]
  },
  {
   "cell_type": "code",
   "execution_count": 491,
   "id": "eaf6f990",
   "metadata": {
    "ExecuteTime": {
     "end_time": "2023-02-10T15:05:29.830398Z",
     "start_time": "2023-02-10T15:05:29.818906Z"
    }
   },
   "outputs": [],
   "source": [
    "df1=df.copy()"
   ]
  },
  {
   "cell_type": "code",
   "execution_count": 492,
   "id": "9f1ebf2c",
   "metadata": {
    "ExecuteTime": {
     "end_time": "2023-02-10T15:05:29.845591Z",
     "start_time": "2023-02-10T15:05:29.833804Z"
    }
   },
   "outputs": [],
   "source": [
    "df1.drop([\"day\",\"month\"],axis =1, inplace = True)"
   ]
  },
  {
   "cell_type": "code",
   "execution_count": 493,
   "id": "129a0d94",
   "metadata": {
    "ExecuteTime": {
     "end_time": "2023-02-10T15:05:29.893014Z",
     "start_time": "2023-02-10T15:05:29.848393Z"
    }
   },
   "outputs": [
    {
     "data": {
      "text/plain": [
       "age             0\n",
       "job            38\n",
       "marital         0\n",
       "education     187\n",
       "default         0\n",
       "balance         0\n",
       "housing         0\n",
       "loan            0\n",
       "contact      1324\n",
       "duration        0\n",
       "campaign        0\n",
       "pdays           0\n",
       "previous        0\n",
       "poutcome     3705\n",
       "y               0\n",
       "dtype: int64"
      ]
     },
     "execution_count": 493,
     "metadata": {},
     "output_type": "execute_result"
    }
   ],
   "source": [
    "import numpy as np\n",
    "for i in df1.columns:\n",
    "    df1[i] = np.where(df1[i] == \"unknown\", np.nan, df1[i])\n",
    "df1.isna().sum()"
   ]
  },
  {
   "cell_type": "code",
   "execution_count": 494,
   "id": "3e529b10",
   "metadata": {
    "ExecuteTime": {
     "end_time": "2023-02-10T15:05:29.908226Z",
     "start_time": "2023-02-10T15:05:29.896221Z"
    }
   },
   "outputs": [
    {
     "data": {
      "text/plain": [
       "81.95089581950896"
      ]
     },
     "execution_count": 494,
     "metadata": {},
     "output_type": "execute_result"
    }
   ],
   "source": [
    "(3705/df1.poutcome.shape[0])*100\n"
   ]
  },
  {
   "cell_type": "code",
   "execution_count": 495,
   "id": "f8f1b143",
   "metadata": {
    "ExecuteTime": {
     "end_time": "2023-02-10T15:05:29.923662Z",
     "start_time": "2023-02-10T15:05:29.911748Z"
    }
   },
   "outputs": [
    {
     "data": {
      "text/plain": [
       "29.285556292855563"
      ]
     },
     "execution_count": 495,
     "metadata": {},
     "output_type": "execute_result"
    }
   ],
   "source": [
    "(1324/df1.contact.shape[0])*100"
   ]
  },
  {
   "cell_type": "code",
   "execution_count": 496,
   "id": "47839e6c",
   "metadata": {
    "ExecuteTime": {
     "end_time": "2023-02-10T15:05:29.939352Z",
     "start_time": "2023-02-10T15:05:29.926253Z"
    }
   },
   "outputs": [],
   "source": [
    "df1.drop(\"poutcome\", inplace = True, axis = 1)\n",
    "df1.drop(\"contact\", inplace = True, axis = 1)"
   ]
  },
  {
   "cell_type": "markdown",
   "id": "d5dd40ad",
   "metadata": {},
   "source": [
    "# Data Pre-processing"
   ]
  },
  {
   "cell_type": "code",
   "execution_count": 497,
   "id": "b88f9b9e",
   "metadata": {
    "ExecuteTime": {
     "end_time": "2023-02-10T15:05:29.955504Z",
     "start_time": "2023-02-10T15:05:29.942827Z"
    }
   },
   "outputs": [],
   "source": [
    "df1[\"job\"].fillna(method = \"ffill\",inplace=True)\n",
    "df1[\"education\"].fillna(method = \"ffill\",inplace= True)"
   ]
  },
  {
   "cell_type": "code",
   "execution_count": 498,
   "id": "27d413e9",
   "metadata": {
    "ExecuteTime": {
     "end_time": "2023-02-10T15:05:29.971662Z",
     "start_time": "2023-02-10T15:05:29.958766Z"
    }
   },
   "outputs": [],
   "source": [
    "varlist=[\"default\",'housing','y']"
   ]
  },
  {
   "cell_type": "code",
   "execution_count": 499,
   "id": "1a9714ef",
   "metadata": {
    "ExecuteTime": {
     "end_time": "2023-02-10T15:05:29.987964Z",
     "start_time": "2023-02-10T15:05:29.973936Z"
    }
   },
   "outputs": [],
   "source": [
    "def binary_map(q):\n",
    "    return q.map({'yes':1,'no':0})"
   ]
  },
  {
   "cell_type": "code",
   "execution_count": 500,
   "id": "a1271c39",
   "metadata": {
    "ExecuteTime": {
     "end_time": "2023-02-10T15:05:30.034779Z",
     "start_time": "2023-02-10T15:05:29.991117Z"
    }
   },
   "outputs": [
    {
     "data": {
      "text/html": [
       "<div>\n",
       "<style scoped>\n",
       "    .dataframe tbody tr th:only-of-type {\n",
       "        vertical-align: middle;\n",
       "    }\n",
       "\n",
       "    .dataframe tbody tr th {\n",
       "        vertical-align: top;\n",
       "    }\n",
       "\n",
       "    .dataframe thead th {\n",
       "        text-align: right;\n",
       "    }\n",
       "</style>\n",
       "<table border=\"1\" class=\"dataframe\">\n",
       "  <thead>\n",
       "    <tr style=\"text-align: right;\">\n",
       "      <th></th>\n",
       "      <th>age</th>\n",
       "      <th>job</th>\n",
       "      <th>marital</th>\n",
       "      <th>education</th>\n",
       "      <th>default</th>\n",
       "      <th>balance</th>\n",
       "      <th>housing</th>\n",
       "      <th>loan</th>\n",
       "      <th>duration</th>\n",
       "      <th>campaign</th>\n",
       "      <th>pdays</th>\n",
       "      <th>previous</th>\n",
       "      <th>y</th>\n",
       "    </tr>\n",
       "  </thead>\n",
       "  <tbody>\n",
       "    <tr>\n",
       "      <th>0</th>\n",
       "      <td>30.0</td>\n",
       "      <td>unemployed</td>\n",
       "      <td>married</td>\n",
       "      <td>primary</td>\n",
       "      <td>0</td>\n",
       "      <td>1787.0</td>\n",
       "      <td>0</td>\n",
       "      <td>no</td>\n",
       "      <td>79.0</td>\n",
       "      <td>1.0</td>\n",
       "      <td>-1.0</td>\n",
       "      <td>0.0</td>\n",
       "      <td>0</td>\n",
       "    </tr>\n",
       "    <tr>\n",
       "      <th>1</th>\n",
       "      <td>33.0</td>\n",
       "      <td>services</td>\n",
       "      <td>married</td>\n",
       "      <td>secondary</td>\n",
       "      <td>0</td>\n",
       "      <td>4789.0</td>\n",
       "      <td>1</td>\n",
       "      <td>yes</td>\n",
       "      <td>220.0</td>\n",
       "      <td>1.0</td>\n",
       "      <td>339.0</td>\n",
       "      <td>4.0</td>\n",
       "      <td>0</td>\n",
       "    </tr>\n",
       "    <tr>\n",
       "      <th>2</th>\n",
       "      <td>35.0</td>\n",
       "      <td>management</td>\n",
       "      <td>single</td>\n",
       "      <td>tertiary</td>\n",
       "      <td>0</td>\n",
       "      <td>1350.0</td>\n",
       "      <td>1</td>\n",
       "      <td>no</td>\n",
       "      <td>185.0</td>\n",
       "      <td>1.0</td>\n",
       "      <td>330.0</td>\n",
       "      <td>1.0</td>\n",
       "      <td>0</td>\n",
       "    </tr>\n",
       "    <tr>\n",
       "      <th>3</th>\n",
       "      <td>30.0</td>\n",
       "      <td>management</td>\n",
       "      <td>married</td>\n",
       "      <td>tertiary</td>\n",
       "      <td>0</td>\n",
       "      <td>1476.0</td>\n",
       "      <td>1</td>\n",
       "      <td>yes</td>\n",
       "      <td>199.0</td>\n",
       "      <td>4.0</td>\n",
       "      <td>-1.0</td>\n",
       "      <td>0.0</td>\n",
       "      <td>0</td>\n",
       "    </tr>\n",
       "    <tr>\n",
       "      <th>4</th>\n",
       "      <td>59.0</td>\n",
       "      <td>blue-collar</td>\n",
       "      <td>married</td>\n",
       "      <td>secondary</td>\n",
       "      <td>0</td>\n",
       "      <td>0.0</td>\n",
       "      <td>1</td>\n",
       "      <td>no</td>\n",
       "      <td>226.0</td>\n",
       "      <td>1.0</td>\n",
       "      <td>-1.0</td>\n",
       "      <td>0.0</td>\n",
       "      <td>0</td>\n",
       "    </tr>\n",
       "  </tbody>\n",
       "</table>\n",
       "</div>"
      ],
      "text/plain": [
       "    age          job  marital  education  default  balance  housing loan  \\\n",
       "0  30.0   unemployed  married    primary        0   1787.0        0   no   \n",
       "1  33.0     services  married  secondary        0   4789.0        1  yes   \n",
       "2  35.0   management   single   tertiary        0   1350.0        1   no   \n",
       "3  30.0   management  married   tertiary        0   1476.0        1  yes   \n",
       "4  59.0  blue-collar  married  secondary        0      0.0        1   no   \n",
       "\n",
       "   duration  campaign  pdays  previous  y  \n",
       "0      79.0       1.0   -1.0       0.0  0  \n",
       "1     220.0       1.0  339.0       4.0  0  \n",
       "2     185.0       1.0  330.0       1.0  0  \n",
       "3     199.0       4.0   -1.0       0.0  0  \n",
       "4     226.0       1.0   -1.0       0.0  0  "
      ]
     },
     "execution_count": 500,
     "metadata": {},
     "output_type": "execute_result"
    }
   ],
   "source": [
    "df1[varlist]=df1[varlist].apply(binary_map)\n",
    "df1.head()"
   ]
  },
  {
   "cell_type": "code",
   "execution_count": 501,
   "id": "6590d409",
   "metadata": {
    "ExecuteTime": {
     "end_time": "2023-02-10T15:05:30.065262Z",
     "start_time": "2023-02-10T15:05:30.038782Z"
    }
   },
   "outputs": [],
   "source": [
    "df1[\"education\"].replace({'primary':0, 'secondary':1, 'tertiary':2},inplace = True)\n",
    "#df1[\"default\"].replace({'no':0, 'yes':1},inplace = True)\n",
    "df1[\"marital\"].replace({'single':0, 'married':1, 'divorced':2},inplace = True)\n",
    "#df1[\"housing\"].replace({'no':0, 'yes':1},inplace = True)\n",
    "df1[\"loan\"].replace({'no':0, 'yes':1},inplace = True)"
   ]
  },
  {
   "cell_type": "code",
   "execution_count": 502,
   "id": "31f50720",
   "metadata": {
    "ExecuteTime": {
     "end_time": "2023-02-10T15:05:30.080633Z",
     "start_time": "2023-02-10T15:05:30.068746Z"
    }
   },
   "outputs": [],
   "source": [
    "df1[\"education\"].replace({'primary':0, 'secondary':1, 'tertiary':2},inplace = True)\n",
    "#df1[\"default\"].replace({'no':0, 'yes':1},inplace = True)\n",
    "df1[\"marital\"].replace({'single':0, 'married':1, 'divorced':2},inplace = True)"
   ]
  },
  {
   "cell_type": "markdown",
   "id": "40915f25",
   "metadata": {
    "ExecuteTime": {
     "end_time": "2023-02-10T07:52:30.960493Z",
     "start_time": "2023-02-10T07:52:30.922860Z"
    }
   },
   "source": [
    "# One Hot Encoder"
   ]
  },
  {
   "cell_type": "code",
   "execution_count": 503,
   "id": "7cab0faa",
   "metadata": {
    "ExecuteTime": {
     "end_time": "2023-02-10T15:05:30.142291Z",
     "start_time": "2023-02-10T15:05:30.084241Z"
    },
    "scrolled": false
   },
   "outputs": [
    {
     "data": {
      "text/html": [
       "<div>\n",
       "<style scoped>\n",
       "    .dataframe tbody tr th:only-of-type {\n",
       "        vertical-align: middle;\n",
       "    }\n",
       "\n",
       "    .dataframe tbody tr th {\n",
       "        vertical-align: top;\n",
       "    }\n",
       "\n",
       "    .dataframe thead th {\n",
       "        text-align: right;\n",
       "    }\n",
       "</style>\n",
       "<table border=\"1\" class=\"dataframe\">\n",
       "  <thead>\n",
       "    <tr style=\"text-align: right;\">\n",
       "      <th></th>\n",
       "      <th>age</th>\n",
       "      <th>marital</th>\n",
       "      <th>education</th>\n",
       "      <th>default</th>\n",
       "      <th>balance</th>\n",
       "      <th>housing</th>\n",
       "      <th>loan</th>\n",
       "      <th>duration</th>\n",
       "      <th>campaign</th>\n",
       "      <th>pdays</th>\n",
       "      <th>...</th>\n",
       "      <th>services</th>\n",
       "      <th>management</th>\n",
       "      <th>blue-collar</th>\n",
       "      <th>self-employed</th>\n",
       "      <th>technician</th>\n",
       "      <th>entrepreneur</th>\n",
       "      <th>admin.</th>\n",
       "      <th>student</th>\n",
       "      <th>housemaid</th>\n",
       "      <th>retired</th>\n",
       "    </tr>\n",
       "  </thead>\n",
       "  <tbody>\n",
       "    <tr>\n",
       "      <th>0</th>\n",
       "      <td>30.0</td>\n",
       "      <td>1</td>\n",
       "      <td>0</td>\n",
       "      <td>0</td>\n",
       "      <td>1787.0</td>\n",
       "      <td>0</td>\n",
       "      <td>0</td>\n",
       "      <td>79.0</td>\n",
       "      <td>1.0</td>\n",
       "      <td>-1.0</td>\n",
       "      <td>...</td>\n",
       "      <td>0.0</td>\n",
       "      <td>0.0</td>\n",
       "      <td>0.0</td>\n",
       "      <td>0.0</td>\n",
       "      <td>0.0</td>\n",
       "      <td>0.0</td>\n",
       "      <td>0.0</td>\n",
       "      <td>0.0</td>\n",
       "      <td>0.0</td>\n",
       "      <td>1.0</td>\n",
       "    </tr>\n",
       "    <tr>\n",
       "      <th>1</th>\n",
       "      <td>33.0</td>\n",
       "      <td>1</td>\n",
       "      <td>1</td>\n",
       "      <td>0</td>\n",
       "      <td>4789.0</td>\n",
       "      <td>1</td>\n",
       "      <td>1</td>\n",
       "      <td>220.0</td>\n",
       "      <td>1.0</td>\n",
       "      <td>339.0</td>\n",
       "      <td>...</td>\n",
       "      <td>0.0</td>\n",
       "      <td>0.0</td>\n",
       "      <td>0.0</td>\n",
       "      <td>0.0</td>\n",
       "      <td>0.0</td>\n",
       "      <td>0.0</td>\n",
       "      <td>1.0</td>\n",
       "      <td>0.0</td>\n",
       "      <td>0.0</td>\n",
       "      <td>0.0</td>\n",
       "    </tr>\n",
       "    <tr>\n",
       "      <th>2</th>\n",
       "      <td>35.0</td>\n",
       "      <td>0</td>\n",
       "      <td>2</td>\n",
       "      <td>0</td>\n",
       "      <td>1350.0</td>\n",
       "      <td>1</td>\n",
       "      <td>0</td>\n",
       "      <td>185.0</td>\n",
       "      <td>1.0</td>\n",
       "      <td>330.0</td>\n",
       "      <td>...</td>\n",
       "      <td>0.0</td>\n",
       "      <td>0.0</td>\n",
       "      <td>0.0</td>\n",
       "      <td>1.0</td>\n",
       "      <td>0.0</td>\n",
       "      <td>0.0</td>\n",
       "      <td>0.0</td>\n",
       "      <td>0.0</td>\n",
       "      <td>0.0</td>\n",
       "      <td>0.0</td>\n",
       "    </tr>\n",
       "    <tr>\n",
       "      <th>3</th>\n",
       "      <td>30.0</td>\n",
       "      <td>1</td>\n",
       "      <td>2</td>\n",
       "      <td>0</td>\n",
       "      <td>1476.0</td>\n",
       "      <td>1</td>\n",
       "      <td>1</td>\n",
       "      <td>199.0</td>\n",
       "      <td>4.0</td>\n",
       "      <td>-1.0</td>\n",
       "      <td>...</td>\n",
       "      <td>0.0</td>\n",
       "      <td>0.0</td>\n",
       "      <td>0.0</td>\n",
       "      <td>1.0</td>\n",
       "      <td>0.0</td>\n",
       "      <td>0.0</td>\n",
       "      <td>0.0</td>\n",
       "      <td>0.0</td>\n",
       "      <td>0.0</td>\n",
       "      <td>0.0</td>\n",
       "    </tr>\n",
       "    <tr>\n",
       "      <th>4</th>\n",
       "      <td>59.0</td>\n",
       "      <td>1</td>\n",
       "      <td>1</td>\n",
       "      <td>0</td>\n",
       "      <td>0.0</td>\n",
       "      <td>1</td>\n",
       "      <td>0</td>\n",
       "      <td>226.0</td>\n",
       "      <td>1.0</td>\n",
       "      <td>-1.0</td>\n",
       "      <td>...</td>\n",
       "      <td>1.0</td>\n",
       "      <td>0.0</td>\n",
       "      <td>0.0</td>\n",
       "      <td>0.0</td>\n",
       "      <td>0.0</td>\n",
       "      <td>0.0</td>\n",
       "      <td>0.0</td>\n",
       "      <td>0.0</td>\n",
       "      <td>0.0</td>\n",
       "      <td>0.0</td>\n",
       "    </tr>\n",
       "  </tbody>\n",
       "</table>\n",
       "<p>5 rows × 23 columns</p>\n",
       "</div>"
      ],
      "text/plain": [
       "    age  marital  education  default  balance  housing  loan  duration  \\\n",
       "0  30.0        1          0        0   1787.0        0     0      79.0   \n",
       "1  33.0        1          1        0   4789.0        1     1     220.0   \n",
       "2  35.0        0          2        0   1350.0        1     0     185.0   \n",
       "3  30.0        1          2        0   1476.0        1     1     199.0   \n",
       "4  59.0        1          1        0      0.0        1     0     226.0   \n",
       "\n",
       "   campaign  pdays  ...  services  management  blue-collar  self-employed  \\\n",
       "0       1.0   -1.0  ...       0.0         0.0          0.0            0.0   \n",
       "1       1.0  339.0  ...       0.0         0.0          0.0            0.0   \n",
       "2       1.0  330.0  ...       0.0         0.0          0.0            1.0   \n",
       "3       4.0   -1.0  ...       0.0         0.0          0.0            1.0   \n",
       "4       1.0   -1.0  ...       1.0         0.0          0.0            0.0   \n",
       "\n",
       "   technician  entrepreneur  admin.  student  housemaid  retired  \n",
       "0         0.0           0.0     0.0      0.0        0.0      1.0  \n",
       "1         0.0           0.0     1.0      0.0        0.0      0.0  \n",
       "2         0.0           0.0     0.0      0.0        0.0      0.0  \n",
       "3         0.0           0.0     0.0      0.0        0.0      0.0  \n",
       "4         0.0           0.0     0.0      0.0        0.0      0.0  \n",
       "\n",
       "[5 rows x 23 columns]"
      ]
     },
     "execution_count": 503,
     "metadata": {},
     "output_type": "execute_result"
    }
   ],
   "source": [
    "from sklearn.preprocessing import OneHotEncoder,LabelEncoder\n",
    "ohe = OneHotEncoder()\n",
    "df1[list(df1[\"job\"].unique())] = ohe.fit_transform(df1[[\"job\"]]).A\n",
    "df1.drop(\"job\",axis = 1, inplace = True)\n",
    "df1.head()\n"
   ]
  },
  {
   "cell_type": "code",
   "execution_count": 504,
   "id": "b677e42b",
   "metadata": {
    "ExecuteTime": {
     "end_time": "2023-02-10T15:05:36.204881Z",
     "start_time": "2023-02-10T15:05:30.144709Z"
    },
    "scrolled": true
   },
   "outputs": [
    {
     "name": "stdout",
     "output_type": "stream",
     "text": [
      "Requirement already satisfied: scikit-learn in c:\\users\\apeksha\\anaconda3\\lib\\site-packages (1.2.1)\n",
      "Requirement already satisfied: scipy>=1.3.2 in c:\\users\\apeksha\\anaconda3\\lib\\site-packages (from scikit-learn) (1.7.1)\n",
      "Requirement already satisfied: joblib>=1.1.1 in c:\\users\\apeksha\\anaconda3\\lib\\site-packages (from scikit-learn) (1.2.0)\n",
      "Requirement already satisfied: threadpoolctl>=2.0.0 in c:\\users\\apeksha\\anaconda3\\lib\\site-packages (from scikit-learn) (2.2.0)\n",
      "Requirement already satisfied: numpy>=1.17.3 in c:\\users\\apeksha\\anaconda3\\lib\\site-packages (from scikit-learn) (1.20.3)\n"
     ]
    }
   ],
   "source": [
    "import pandas as pd\n",
    "from sklearn import metrics\n",
    "from sklearn.model_selection import train_test_split\n",
    "from sklearn.metrics import recall_score\n",
    "from sklearn.metrics import classification_report\n",
    "from sklearn.metrics import confusion_matrix\n",
    "from sklearn.tree import DecisionTreeClassifier\n",
    "!pip install -U scikit-learn\n",
    "\n",
    "from sklearn.ensemble import RandomForestClassifier\n",
    "\n",
    "\n",
    "\n",
    "#from xgboost import XGBClassifier\n",
    "#from sklearn.linear_model import LogisticRegression\n",
    "#from imblearn.combine import SMOTEENN"
   ]
  },
  {
   "cell_type": "code",
   "execution_count": 505,
   "id": "b36438f0",
   "metadata": {
    "ExecuteTime": {
     "end_time": "2023-02-10T15:05:41.013555Z",
     "start_time": "2023-02-10T15:05:36.208885Z"
    }
   },
   "outputs": [
    {
     "name": "stdout",
     "output_type": "stream",
     "text": [
      "Requirement already satisfied: xgboost in c:\\users\\apeksha\\anaconda3\\lib\\site-packages (1.7.3)\n",
      "Requirement already satisfied: numpy in c:\\users\\apeksha\\anaconda3\\lib\\site-packages (from xgboost) (1.20.3)\n",
      "Requirement already satisfied: scipy in c:\\users\\apeksha\\anaconda3\\lib\\site-packages (from xgboost) (1.7.1)\n"
     ]
    }
   ],
   "source": [
    "!pip install xgboost\n",
    "import xgboost\n",
    "from xgboost import XGBClassifier\n",
    "from sklearn.linear_model import LogisticRegression\n",
    "from imblearn.combine import SMOTEENN"
   ]
  },
  {
   "cell_type": "code",
   "execution_count": 506,
   "id": "0d61e713",
   "metadata": {
    "ExecuteTime": {
     "end_time": "2023-02-10T15:05:41.059910Z",
     "start_time": "2023-02-10T15:05:41.017773Z"
    }
   },
   "outputs": [
    {
     "data": {
      "text/html": [
       "<div>\n",
       "<style scoped>\n",
       "    .dataframe tbody tr th:only-of-type {\n",
       "        vertical-align: middle;\n",
       "    }\n",
       "\n",
       "    .dataframe tbody tr th {\n",
       "        vertical-align: top;\n",
       "    }\n",
       "\n",
       "    .dataframe thead th {\n",
       "        text-align: right;\n",
       "    }\n",
       "</style>\n",
       "<table border=\"1\" class=\"dataframe\">\n",
       "  <thead>\n",
       "    <tr style=\"text-align: right;\">\n",
       "      <th></th>\n",
       "      <th>age</th>\n",
       "      <th>marital</th>\n",
       "      <th>education</th>\n",
       "      <th>default</th>\n",
       "      <th>balance</th>\n",
       "      <th>housing</th>\n",
       "      <th>loan</th>\n",
       "      <th>duration</th>\n",
       "      <th>campaign</th>\n",
       "      <th>pdays</th>\n",
       "      <th>...</th>\n",
       "      <th>services</th>\n",
       "      <th>management</th>\n",
       "      <th>blue-collar</th>\n",
       "      <th>self-employed</th>\n",
       "      <th>technician</th>\n",
       "      <th>entrepreneur</th>\n",
       "      <th>admin.</th>\n",
       "      <th>student</th>\n",
       "      <th>housemaid</th>\n",
       "      <th>retired</th>\n",
       "    </tr>\n",
       "  </thead>\n",
       "  <tbody>\n",
       "    <tr>\n",
       "      <th>0</th>\n",
       "      <td>30.0</td>\n",
       "      <td>1</td>\n",
       "      <td>0</td>\n",
       "      <td>0</td>\n",
       "      <td>1787.0</td>\n",
       "      <td>0</td>\n",
       "      <td>0</td>\n",
       "      <td>79.0</td>\n",
       "      <td>1.0</td>\n",
       "      <td>-1.0</td>\n",
       "      <td>...</td>\n",
       "      <td>0.0</td>\n",
       "      <td>0.0</td>\n",
       "      <td>0.0</td>\n",
       "      <td>0.0</td>\n",
       "      <td>0.0</td>\n",
       "      <td>0.0</td>\n",
       "      <td>0.0</td>\n",
       "      <td>0.0</td>\n",
       "      <td>0.0</td>\n",
       "      <td>1.0</td>\n",
       "    </tr>\n",
       "  </tbody>\n",
       "</table>\n",
       "<p>1 rows × 23 columns</p>\n",
       "</div>"
      ],
      "text/plain": [
       "    age  marital  education  default  balance  housing  loan  duration  \\\n",
       "0  30.0        1          0        0   1787.0        0     0      79.0   \n",
       "\n",
       "   campaign  pdays  ...  services  management  blue-collar  self-employed  \\\n",
       "0       1.0   -1.0  ...       0.0         0.0          0.0            0.0   \n",
       "\n",
       "   technician  entrepreneur  admin.  student  housemaid  retired  \n",
       "0         0.0           0.0     0.0      0.0        0.0      1.0  \n",
       "\n",
       "[1 rows x 23 columns]"
      ]
     },
     "execution_count": 506,
     "metadata": {},
     "output_type": "execute_result"
    }
   ],
   "source": [
    "label = LabelEncoder()\n",
    "df1[\"y\"] =  label.fit_transform(df1[\"y\"])\n",
    "df1.head(1)"
   ]
  },
  {
   "cell_type": "code",
   "execution_count": 507,
   "id": "d15848bd",
   "metadata": {
    "ExecuteTime": {
     "end_time": "2023-02-10T15:05:44.204899Z",
     "start_time": "2023-02-10T15:05:41.062912Z"
    },
    "scrolled": false
   },
   "outputs": [
    {
     "data": {
      "image/png": "[encoded data removed]",
      "text/plain": [
       "<Figure size 1440x720 with 2 Axes>"
      ]
     },
     "metadata": {
      "needs_background": "light"
     },
     "output_type": "display_data"
    }
   ],
   "source": [
    "plt.figure(figsize=(20,10))\n",
    "corr=df1.corr()\n",
    "count=sns.heatmap(corr,annot=True)"
   ]
  },
  {
   "cell_type": "code",
   "execution_count": 508,
   "id": "4deae4cb",
   "metadata": {
    "ExecuteTime": {
     "end_time": "2023-02-10T15:05:44.642633Z",
     "start_time": "2023-02-10T15:05:44.207839Z"
    },
    "scrolled": false
   },
   "outputs": [
    {
     "data": {
      "text/plain": [
       "<AxesSubplot:>"
      ]
     },
     "execution_count": 508,
     "metadata": {},
     "output_type": "execute_result"
    },
    {
     "data": {
      "image/png": "[encoded data removed]",
      "text/plain": [
       "<Figure size 1440x576 with 1 Axes>"
      ]
     },
     "metadata": {
      "needs_background": "light"
     },
     "output_type": "display_data"
    }
   ],
   "source": [
    "plt.figure(figsize=(20,8))\n",
    "df1.corr()['y'].sort_values(ascending = False).plot(kind='bar')"
   ]
  },
  {
   "cell_type": "markdown",
   "id": "1cda1ef1",
   "metadata": {},
   "source": [
    "# Data Standardization "
   ]
  },
  {
   "cell_type": "code",
   "execution_count": 509,
   "id": "7efd4ba1",
   "metadata": {
    "ExecuteTime": {
     "end_time": "2023-02-10T15:05:44.705175Z",
     "start_time": "2023-02-10T15:05:44.646640Z"
    }
   },
   "outputs": [
    {
     "data": {
      "text/html": [
       "<div>\n",
       "<style scoped>\n",
       "    .dataframe tbody tr th:only-of-type {\n",
       "        vertical-align: middle;\n",
       "    }\n",
       "\n",
       "    .dataframe tbody tr th {\n",
       "        vertical-align: top;\n",
       "    }\n",
       "\n",
       "    .dataframe thead th {\n",
       "        text-align: right;\n",
       "    }\n",
       "</style>\n",
       "<table border=\"1\" class=\"dataframe\">\n",
       "  <thead>\n",
       "    <tr style=\"text-align: right;\">\n",
       "      <th></th>\n",
       "      <th>age</th>\n",
       "      <th>marital</th>\n",
       "      <th>education</th>\n",
       "      <th>default</th>\n",
       "      <th>balance</th>\n",
       "      <th>housing</th>\n",
       "      <th>loan</th>\n",
       "      <th>duration</th>\n",
       "      <th>campaign</th>\n",
       "      <th>pdays</th>\n",
       "      <th>...</th>\n",
       "      <th>services</th>\n",
       "      <th>management</th>\n",
       "      <th>blue-collar</th>\n",
       "      <th>self-employed</th>\n",
       "      <th>technician</th>\n",
       "      <th>entrepreneur</th>\n",
       "      <th>admin.</th>\n",
       "      <th>student</th>\n",
       "      <th>housemaid</th>\n",
       "      <th>retired</th>\n",
       "    </tr>\n",
       "  </thead>\n",
       "  <tbody>\n",
       "    <tr>\n",
       "      <th>0</th>\n",
       "      <td>0.916071</td>\n",
       "      <td>0.241356</td>\n",
       "      <td>1.261401</td>\n",
       "      <td>-0.13208</td>\n",
       "      <td>0.494603</td>\n",
       "      <td>0.873031</td>\n",
       "      <td>-0.433937</td>\n",
       "      <td>1.761697</td>\n",
       "      <td>0.364078</td>\n",
       "      <td>-0.415254</td>\n",
       "      <td>...</td>\n",
       "      <td>-0.511125</td>\n",
       "      <td>-0.199942</td>\n",
       "      <td>-0.158852</td>\n",
       "      <td>1.883727</td>\n",
       "      <td>-0.236149</td>\n",
       "      <td>-0.209475</td>\n",
       "      <td>-0.326842</td>\n",
       "      <td>-0.140501</td>\n",
       "      <td>-0.444242</td>\n",
       "      <td>-0.176297</td>\n",
       "    </tr>\n",
       "    <tr>\n",
       "      <th>1</th>\n",
       "      <td>-0.583525</td>\n",
       "      <td>0.241356</td>\n",
       "      <td>-0.239002</td>\n",
       "      <td>-0.13208</td>\n",
       "      <td>-0.572741</td>\n",
       "      <td>0.873031</td>\n",
       "      <td>-0.433937</td>\n",
       "      <td>0.474418</td>\n",
       "      <td>-0.259415</td>\n",
       "      <td>-0.415254</td>\n",
       "      <td>...</td>\n",
       "      <td>1.956469</td>\n",
       "      <td>-0.199942</td>\n",
       "      <td>-0.158852</td>\n",
       "      <td>-0.530862</td>\n",
       "      <td>-0.236149</td>\n",
       "      <td>-0.209475</td>\n",
       "      <td>-0.326842</td>\n",
       "      <td>-0.140501</td>\n",
       "      <td>-0.444242</td>\n",
       "      <td>-0.176297</td>\n",
       "    </tr>\n",
       "    <tr>\n",
       "      <th>2</th>\n",
       "      <td>-0.302350</td>\n",
       "      <td>0.241356</td>\n",
       "      <td>-0.239002</td>\n",
       "      <td>-0.13208</td>\n",
       "      <td>-0.300117</td>\n",
       "      <td>0.873031</td>\n",
       "      <td>2.304484</td>\n",
       "      <td>-0.671945</td>\n",
       "      <td>0.675824</td>\n",
       "      <td>-0.415254</td>\n",
       "      <td>...</td>\n",
       "      <td>-0.511125</td>\n",
       "      <td>-0.199942</td>\n",
       "      <td>-0.158852</td>\n",
       "      <td>-0.530862</td>\n",
       "      <td>-0.236149</td>\n",
       "      <td>-0.209475</td>\n",
       "      <td>3.059580</td>\n",
       "      <td>-0.140501</td>\n",
       "      <td>-0.444242</td>\n",
       "      <td>-0.176297</td>\n",
       "    </tr>\n",
       "    <tr>\n",
       "      <th>3</th>\n",
       "      <td>-0.864699</td>\n",
       "      <td>1.900567</td>\n",
       "      <td>1.261401</td>\n",
       "      <td>-0.13208</td>\n",
       "      <td>-0.177175</td>\n",
       "      <td>-1.145435</td>\n",
       "      <td>-0.433937</td>\n",
       "      <td>3.875424</td>\n",
       "      <td>0.987570</td>\n",
       "      <td>-0.415254</td>\n",
       "      <td>...</td>\n",
       "      <td>-0.511125</td>\n",
       "      <td>-0.199942</td>\n",
       "      <td>-0.158852</td>\n",
       "      <td>1.883727</td>\n",
       "      <td>-0.236149</td>\n",
       "      <td>-0.209475</td>\n",
       "      <td>-0.326842</td>\n",
       "      <td>-0.140501</td>\n",
       "      <td>-0.444242</td>\n",
       "      <td>-0.176297</td>\n",
       "    </tr>\n",
       "    <tr>\n",
       "      <th>4</th>\n",
       "      <td>-0.489800</td>\n",
       "      <td>0.241356</td>\n",
       "      <td>1.261401</td>\n",
       "      <td>-0.13208</td>\n",
       "      <td>-0.379360</td>\n",
       "      <td>-1.145435</td>\n",
       "      <td>-0.433937</td>\n",
       "      <td>-0.393923</td>\n",
       "      <td>0.052331</td>\n",
       "      <td>-0.415254</td>\n",
       "      <td>...</td>\n",
       "      <td>-0.511125</td>\n",
       "      <td>-0.199942</td>\n",
       "      <td>-0.158852</td>\n",
       "      <td>1.883727</td>\n",
       "      <td>-0.236149</td>\n",
       "      <td>-0.209475</td>\n",
       "      <td>-0.326842</td>\n",
       "      <td>-0.140501</td>\n",
       "      <td>-0.444242</td>\n",
       "      <td>-0.176297</td>\n",
       "    </tr>\n",
       "  </tbody>\n",
       "</table>\n",
       "<p>5 rows × 22 columns</p>\n",
       "</div>"
      ],
      "text/plain": [
       "        age   marital  education  default   balance   housing      loan  \\\n",
       "0  0.916071  0.241356   1.261401 -0.13208  0.494603  0.873031 -0.433937   \n",
       "1 -0.583525  0.241356  -0.239002 -0.13208 -0.572741  0.873031 -0.433937   \n",
       "2 -0.302350  0.241356  -0.239002 -0.13208 -0.300117  0.873031  2.304484   \n",
       "3 -0.864699  1.900567   1.261401 -0.13208 -0.177175 -1.145435 -0.433937   \n",
       "4 -0.489800  0.241356   1.261401 -0.13208 -0.379360 -1.145435 -0.433937   \n",
       "\n",
       "   duration  campaign     pdays  ...  services  management  blue-collar  \\\n",
       "0  1.761697  0.364078 -0.415254  ... -0.511125   -0.199942    -0.158852   \n",
       "1  0.474418 -0.259415 -0.415254  ...  1.956469   -0.199942    -0.158852   \n",
       "2 -0.671945  0.675824 -0.415254  ... -0.511125   -0.199942    -0.158852   \n",
       "3  3.875424  0.987570 -0.415254  ... -0.511125   -0.199942    -0.158852   \n",
       "4 -0.393923  0.052331 -0.415254  ... -0.511125   -0.199942    -0.158852   \n",
       "\n",
       "   self-employed  technician  entrepreneur    admin.   student  housemaid  \\\n",
       "0       1.883727   -0.236149     -0.209475 -0.326842 -0.140501  -0.444242   \n",
       "1      -0.530862   -0.236149     -0.209475 -0.326842 -0.140501  -0.444242   \n",
       "2      -0.530862   -0.236149     -0.209475  3.059580 -0.140501  -0.444242   \n",
       "3       1.883727   -0.236149     -0.209475 -0.326842 -0.140501  -0.444242   \n",
       "4       1.883727   -0.236149     -0.209475 -0.326842 -0.140501  -0.444242   \n",
       "\n",
       "    retired  \n",
       "0 -0.176297  \n",
       "1 -0.176297  \n",
       "2 -0.176297  \n",
       "3 -0.176297  \n",
       "4 -0.176297  \n",
       "\n",
       "[5 rows x 22 columns]"
      ]
     },
     "execution_count": 509,
     "metadata": {},
     "output_type": "execute_result"
    }
   ],
   "source": [
    "from sklearn.preprocessing import StandardScaler\n",
    "std = StandardScaler()\n",
    "arr = std.fit_transform(x_train)\n",
    "std_x = pd.DataFrame(arr, columns = x_train.columns)\n",
    "std_x.head()"
   ]
  },
  {
   "cell_type": "markdown",
   "id": "1f9e6732",
   "metadata": {
    "ExecuteTime": {
     "end_time": "2023-02-10T10:21:39.193624Z",
     "start_time": "2023-02-10T10:21:39.180591Z"
    },
    "scrolled": false
   },
   "source": [
    "# Train_test_Split"
   ]
  },
  {
   "cell_type": "code",
   "execution_count": 510,
   "id": "a950ef84",
   "metadata": {
    "ExecuteTime": {
     "end_time": "2023-02-10T15:05:44.721384Z",
     "start_time": "2023-02-10T15:05:44.708177Z"
    }
   },
   "outputs": [
    {
     "data": {
      "text/plain": [
       "(4521, 22)"
      ]
     },
     "execution_count": 510,
     "metadata": {},
     "output_type": "execute_result"
    }
   ],
   "source": [
    "X = df1.drop(\"y\",axis=1)\n",
    "y = df1['y']\n",
    "X.shape"
   ]
  },
  {
   "cell_type": "code",
   "execution_count": 511,
   "id": "9eade1a1",
   "metadata": {
    "ExecuteTime": {
     "end_time": "2023-02-10T15:05:44.736584Z",
     "start_time": "2023-02-10T15:05:44.724910Z"
    },
    "scrolled": true
   },
   "outputs": [],
   "source": [
    "x_train,x_test,y_train,y_test=train_test_split(X,y,test_size=0.2)"
   ]
  },
  {
   "cell_type": "markdown",
   "id": "b4e1f6ea",
   "metadata": {},
   "source": [
    "# Model Building"
   ]
  },
  {
   "cell_type": "markdown",
   "id": "e773ba61",
   "metadata": {},
   "source": [
    "# Decision Tree Classifier"
   ]
  },
  {
   "cell_type": "code",
   "execution_count": 512,
   "id": "74fa3c8f",
   "metadata": {
    "ExecuteTime": {
     "end_time": "2023-02-10T15:05:44.783488Z",
     "start_time": "2023-02-10T15:05:44.740019Z"
    }
   },
   "outputs": [
    {
     "data": {
      "text/html": [
       "<style>#sk-container-id-28 {color: black;background-color: white;}#sk-container-id-28 pre{padding: 0;}#sk-container-id-28 div.sk-toggleable {background-color: white;}#sk-container-id-28 label.sk-toggleable__label {cursor: pointer;display: block;width: 100%;margin-bottom: 0;padding: 0.3em;box-sizing: border-box;text-align: center;}#sk-container-id-28 label.sk-toggleable__label-arrow:before {content: \"▸\";float: left;margin-right: 0.25em;color: #696969;}#sk-container-id-28 label.sk-toggleable__label-arrow:hover:before {color: black;}#sk-container-id-28 div.sk-estimator:hover label.sk-toggleable__label-arrow:before {color: black;}#sk-container-id-28 div.sk-toggleable__content {max-height: 0;max-width: 0;overflow: hidden;text-align: left;background-color: #f0f8ff;}#sk-container-id-28 div.sk-toggleable__content pre {margin: 0.2em;color: black;border-radius: 0.25em;background-color: #f0f8ff;}#sk-container-id-28 input.sk-toggleable__control:checked~div.sk-toggleable__content {max-height: 200px;max-width: 100%;overflow: auto;}#sk-container-id-28 input.sk-toggleable__control:checked~label.sk-toggleable__label-arrow:before {content: \"▾\";}#sk-container-id-28 div.sk-estimator input.sk-toggleable__control:checked~label.sk-toggleable__label {background-color: #d4ebff;}#sk-container-id-28 div.sk-label input.sk-toggleable__control:checked~label.sk-toggleable__label {background-color: #d4ebff;}#sk-container-id-28 input.sk-hidden--visually {border: 0;clip: rect(1px 1px 1px 1px);clip: rect(1px, 1px, 1px, 1px);height: 1px;margin: -1px;overflow: hidden;padding: 0;position: absolute;width: 1px;}#sk-container-id-28 div.sk-estimator {font-family: monospace;background-color: #f0f8ff;border: 1px dotted black;border-radius: 0.25em;box-sizing: border-box;margin-bottom: 0.5em;}#sk-container-id-28 div.sk-estimator:hover {background-color: #d4ebff;}#sk-container-id-28 div.sk-parallel-item::after {content: \"\";width: 100%;border-bottom: 1px solid gray;flex-grow: 1;}#sk-container-id-28 div.sk-label:hover label.sk-toggleable__label {background-color: #d4ebff;}#sk-container-id-28 div.sk-serial::before {content: \"\";position: absolute;border-left: 1px solid gray;box-sizing: border-box;top: 0;bottom: 0;left: 50%;z-index: 0;}#sk-container-id-28 div.sk-serial {display: flex;flex-direction: column;align-items: center;background-color: white;padding-right: 0.2em;padding-left: 0.2em;position: relative;}#sk-container-id-28 div.sk-item {position: relative;z-index: 1;}#sk-container-id-28 div.sk-parallel {display: flex;align-items: stretch;justify-content: center;background-color: white;position: relative;}#sk-container-id-28 div.sk-item::before, #sk-container-id-28 div.sk-parallel-item::before {content: \"\";position: absolute;border-left: 1px solid gray;box-sizing: border-box;top: 0;bottom: 0;left: 50%;z-index: -1;}#sk-container-id-28 div.sk-parallel-item {display: flex;flex-direction: column;z-index: 1;position: relative;background-color: white;}#sk-container-id-28 div.sk-parallel-item:first-child::after {align-self: flex-end;width: 50%;}#sk-container-id-28 div.sk-parallel-item:last-child::after {align-self: flex-start;width: 50%;}#sk-container-id-28 div.sk-parallel-item:only-child::after {width: 0;}#sk-container-id-28 div.sk-dashed-wrapped {border: 1px dashed gray;margin: 0 0.4em 0.5em 0.4em;box-sizing: border-box;padding-bottom: 0.4em;background-color: white;}#sk-container-id-28 div.sk-label label {font-family: monospace;font-weight: bold;display: inline-block;line-height: 1.2em;}#sk-container-id-28 div.sk-label-container {text-align: center;}#sk-container-id-28 div.sk-container {/* jupyter's `normalize.less` sets `[hidden] { display: none; }` but bootstrap.min.css set `[hidden] { display: none !important; }` so we also need the `!important` here to be able to override the default hidden behavior on the sphinx rendered scikit-learn.org. See: https://github.com/scikit-learn/scikit-learn/issues/21755 */display: inline-block !important;position: relative;}#sk-container-id-28 div.sk-text-repr-fallback {display: none;}</style><div id=\"sk-container-id-28\" class=\"sk-top-container\"><div class=\"sk-text-repr-fallback\"><pre>DecisionTreeClassifier(max_depth=6, min_samples_leaf=8, random_state=100)</pre><b>In a Jupyter environment, please rerun this cell to show the HTML representation or trust the notebook. <br />On GitHub, the HTML representation is unable to render, please try loading this page with nbviewer.org.</b></div><div class=\"sk-container\" hidden><div class=\"sk-item\"><div class=\"sk-estimator sk-toggleable\"><input class=\"sk-toggleable__control sk-hidden--visually\" id=\"sk-estimator-id-34\" type=\"checkbox\" checked><label for=\"sk-estimator-id-34\" class=\"sk-toggleable__label sk-toggleable__label-arrow\">DecisionTreeClassifier</label><div class=\"sk-toggleable__content\"><pre>DecisionTreeClassifier(max_depth=6, min_samples_leaf=8, random_state=100)</pre></div></div></div></div></div>"
      ],
      "text/plain": [
       "DecisionTreeClassifier(max_depth=6, min_samples_leaf=8, random_state=100)"
      ]
     },
     "execution_count": 512,
     "metadata": {},
     "output_type": "execute_result"
    }
   ],
   "source": [
    "model_dt=DecisionTreeClassifier(criterion = \"gini\",random_state = 100,max_depth=6, min_samples_leaf=8)\n",
    "model_dt.fit(x_train,y_train)\n"
   ]
  },
  {
   "cell_type": "code",
   "execution_count": 513,
   "id": "bdd95ec4",
   "metadata": {
    "ExecuteTime": {
     "end_time": "2023-02-10T15:05:44.814321Z",
     "start_time": "2023-02-10T15:05:44.787211Z"
    }
   },
   "outputs": [
    {
     "data": {
      "text/plain": [
       "array([1, 0, 0, 0, 0, 0, 0, 1, 1, 0, 0, 0, 1, 0, 0, 0, 0, 0, 0, 0, 0, 0,\n",
       "       0, 0, 1, 0, 0, 0, 0, 0, 0, 0, 0, 0, 0, 0, 0, 0, 0, 0, 0, 0, 0, 0,\n",
       "       0, 0, 0, 0, 0, 0, 0, 0, 0, 0, 0, 0, 0, 0, 0, 1, 0, 0, 0, 0, 0, 0,\n",
       "       0, 0, 0, 0, 0, 0, 0, 0, 0, 0, 0, 0, 0, 0, 0, 0, 0, 0, 0, 0, 0, 0,\n",
       "       0, 0, 0, 0, 0, 0, 0, 0, 0, 0, 1, 0, 0, 0, 0, 0, 0, 0, 0, 0, 0, 0,\n",
       "       0, 0, 0, 0, 0, 0, 0, 0, 0, 0, 0, 0, 0, 0, 0, 0, 0, 0, 0, 0, 0, 0,\n",
       "       1, 0, 0, 0, 0, 0, 0, 0, 0, 0, 0, 0, 0, 0, 0, 0, 0, 0, 0, 0, 0, 0,\n",
       "       1, 0, 0, 0, 0, 0, 0, 0, 0, 0, 1, 0, 0, 1, 0, 0, 0, 0, 0, 0, 0, 0,\n",
       "       0, 1, 1, 1, 0, 0, 1, 0, 0, 0, 0, 1, 0, 0, 0, 0, 0, 0, 0, 0, 0, 0,\n",
       "       0, 0, 0, 0, 0, 0, 0, 0, 0, 0, 0, 1, 0, 0, 0, 0, 0, 0, 0, 0, 0, 0,\n",
       "       0, 0, 0, 0, 0, 0, 0, 0, 0, 0, 0, 0, 0, 0, 0, 0, 0, 0, 0, 0, 0, 0,\n",
       "       0, 0, 0, 0, 0, 0, 0, 0, 0, 0, 0, 1, 0, 0, 0, 0, 1, 0, 0, 0, 0, 0,\n",
       "       0, 0, 0, 0, 0, 0, 0, 0, 0, 0, 1, 0, 1, 0, 0, 0, 0, 0, 0, 0, 0, 0,\n",
       "       0, 0, 0, 0, 0, 0, 0, 0, 0, 0, 0, 0, 0, 0, 0, 0, 0, 0, 0, 0, 0, 0,\n",
       "       0, 0, 0, 0, 0, 0, 0, 0, 0, 0, 0, 0, 0, 0, 0, 0, 0, 0, 0, 0, 0, 0,\n",
       "       0, 0, 0, 0, 0, 0, 1, 0, 0, 0, 0, 1, 0, 0, 0, 0, 0, 0, 0, 0, 0, 0,\n",
       "       0, 0, 0, 0, 0, 0, 0, 0, 0, 0, 0, 0, 0, 0, 0, 0, 0, 0, 0, 0, 0, 0,\n",
       "       0, 0, 0, 0, 0, 0, 0, 0, 0, 0, 0, 0, 0, 0, 0, 0, 0, 0, 0, 0, 1, 0,\n",
       "       0, 0, 0, 0, 0, 1, 0, 0, 0, 0, 0, 0, 0, 0, 0, 0, 0, 0, 0, 0, 0, 0,\n",
       "       0, 0, 0, 0, 0, 0, 0, 0, 0, 0, 0, 0, 0, 0, 0, 0, 0, 0, 0, 0, 0, 0,\n",
       "       1, 0, 0, 0, 0, 0, 0, 0, 0, 0, 0, 0, 0, 0, 0, 0, 0, 0, 0, 0, 0, 0,\n",
       "       0, 0, 0, 0, 0, 0, 0, 0, 0, 0, 0, 0, 0, 0, 0, 0, 0, 0, 0, 0, 0, 0,\n",
       "       0, 0, 0, 0, 0, 0, 0, 0, 0, 0, 0, 0, 0, 0, 0, 0, 0, 0, 0, 0, 0, 0,\n",
       "       0, 0, 0, 0, 0, 0, 0, 0, 0, 0, 0, 0, 0, 0, 0, 0, 0, 0, 0, 0, 0, 0,\n",
       "       0, 0, 0, 0, 0, 0, 0, 0, 0, 0, 0, 0, 0, 0, 0, 0, 0, 0, 0, 0, 0, 0,\n",
       "       0, 0, 1, 0, 0, 0, 0, 0, 0, 0, 0, 0, 0, 0, 0, 0, 0, 0, 0, 0, 0, 0,\n",
       "       0, 0, 0, 0, 0, 1, 0, 0, 0, 0, 1, 0, 0, 0, 0, 0, 0, 0, 0, 0, 0, 0,\n",
       "       0, 0, 0, 0, 0, 0, 0, 0, 0, 0, 0, 0, 0, 0, 0, 0, 0, 0, 0, 0, 0, 0,\n",
       "       0, 0, 1, 0, 0, 0, 0, 0, 0, 0, 0, 0, 0, 0, 0, 0, 0, 0, 0, 0, 0, 0,\n",
       "       0, 0, 0, 1, 0, 0, 0, 0, 0, 0, 0, 1, 0, 0, 0, 0, 1, 0, 0, 0, 0, 0,\n",
       "       0, 0, 0, 0, 0, 0, 0, 0, 0, 0, 0, 0, 0, 0, 0, 0, 0, 0, 0, 0, 0, 0,\n",
       "       0, 0, 0, 0, 0, 0, 0, 0, 0, 0, 0, 0, 0, 0, 0, 0, 0, 0, 0, 0, 0, 0,\n",
       "       0, 0, 0, 0, 0, 0, 0, 0, 0, 0, 0, 0, 0, 0, 0, 0, 0, 0, 0, 0, 0, 0,\n",
       "       0, 0, 0, 0, 0, 0, 0, 0, 0, 0, 0, 0, 0, 0, 0, 0, 0, 1, 0, 0, 0, 0,\n",
       "       0, 0, 0, 0, 0, 0, 0, 0, 0, 0, 0, 0, 0, 0, 0, 0, 0, 0, 0, 0, 1, 0,\n",
       "       0, 1, 0, 0, 0, 1, 1, 0, 0, 1, 1, 0, 0, 0, 0, 0, 0, 0, 0, 0, 0, 0,\n",
       "       0, 0, 0, 0, 0, 0, 0, 0, 0, 0, 1, 0, 0, 0, 0, 0, 0, 0, 0, 0, 0, 0,\n",
       "       0, 0, 0, 0, 0, 0, 0, 0, 0, 0, 0, 0, 0, 0, 0, 0, 0, 0, 0, 0, 0, 0,\n",
       "       0, 0, 0, 0, 0, 0, 0, 0, 0, 0, 0, 0, 0, 0, 0, 0, 0, 0, 0, 0, 0, 0,\n",
       "       0, 0, 0, 0, 0, 0, 1, 0, 0, 0, 0, 0, 0, 0, 0, 1, 0, 0, 0, 0, 0, 0,\n",
       "       0, 0, 0, 0, 0, 0, 0, 0, 0, 0, 0, 0, 0, 0, 0, 1, 0, 0, 0, 0, 0, 0,\n",
       "       1, 0, 0], dtype=int64)"
      ]
     },
     "execution_count": 513,
     "metadata": {},
     "output_type": "execute_result"
    }
   ],
   "source": [
    "y_pred=model_dt.predict(x_test)\n",
    "y_pred"
   ]
  },
  {
   "cell_type": "code",
   "execution_count": 514,
   "id": "88529a6b",
   "metadata": {
    "ExecuteTime": {
     "end_time": "2023-02-10T15:05:44.845327Z",
     "start_time": "2023-02-10T15:05:44.818812Z"
    }
   },
   "outputs": [
    {
     "data": {
      "text/plain": [
       "0.881767955801105"
      ]
     },
     "execution_count": 514,
     "metadata": {},
     "output_type": "execute_result"
    }
   ],
   "source": [
    "model_dt.score(x_test,y_test)\n"
   ]
  },
  {
   "cell_type": "code",
   "execution_count": 515,
   "id": "4e764e0b",
   "metadata": {
    "ExecuteTime": {
     "end_time": "2023-02-10T15:05:44.876313Z",
     "start_time": "2023-02-10T15:05:44.849966Z"
    },
    "scrolled": false
   },
   "outputs": [
    {
     "name": "stdout",
     "output_type": "stream",
     "text": [
      "              precision    recall  f1-score   support\n",
      "\n",
      "           0       0.90      0.98      0.94       789\n",
      "           1       0.60      0.23      0.34       116\n",
      "\n",
      "    accuracy                           0.88       905\n",
      "   macro avg       0.75      0.60      0.64       905\n",
      "weighted avg       0.86      0.88      0.86       905\n",
      "\n"
     ]
    }
   ],
   "source": [
    "print(classification_report(y_test, y_pred, labels=[0,1]))"
   ]
  },
  {
   "cell_type": "markdown",
   "id": "33027ee6",
   "metadata": {},
   "source": [
    "# 90% Accuracy"
   ]
  },
  {
   "cell_type": "code",
   "execution_count": 516,
   "id": "ba17989e",
   "metadata": {
    "ExecuteTime": {
     "end_time": "2023-02-10T15:05:44.892542Z",
     "start_time": "2023-02-10T15:05:44.880549Z"
    },
    "scrolled": false
   },
   "outputs": [
    {
     "name": "stdout",
     "output_type": "stream",
     "text": [
      "[[771  18]\n",
      " [ 89  27]]\n"
     ]
    }
   ],
   "source": [
    "print(metrics.confusion_matrix(y_test, y_pred))"
   ]
  },
  {
   "cell_type": "markdown",
   "id": "6ddc4fbc",
   "metadata": {},
   "source": [
    "# to balance unbalance dataset"
   ]
  },
  {
   "cell_type": "code",
   "execution_count": 517,
   "id": "e89215e9",
   "metadata": {
    "ExecuteTime": {
     "end_time": "2023-02-10T15:05:45.256476Z",
     "start_time": "2023-02-10T15:05:44.895323Z"
    }
   },
   "outputs": [],
   "source": [
    "sm = SMOTEENN()\n",
    "X_resampled, y_resampled = sm.fit_resample(X,y)"
   ]
  },
  {
   "cell_type": "code",
   "execution_count": 518,
   "id": "2e662e3a",
   "metadata": {
    "ExecuteTime": {
     "end_time": "2023-02-10T15:05:45.272011Z",
     "start_time": "2023-02-10T15:05:45.259477Z"
    }
   },
   "outputs": [],
   "source": [
    "#import imblearn\n",
    "#from imblearn.over_sampling import SMOTE\n",
    "#sm = SMOTE(sampling_strategy=0.75)\n",
    "\n",
    "#X_resampled, y_resampled = sm.fit_resample(X,y)"
   ]
  },
  {
   "cell_type": "code",
   "execution_count": 519,
   "id": "738ad00c",
   "metadata": {
    "ExecuteTime": {
     "end_time": "2023-02-10T15:05:45.304020Z",
     "start_time": "2023-02-10T15:05:45.275011Z"
    }
   },
   "outputs": [],
   "source": [
    "xr_train,xr_test,yr_train,yr_test=train_test_split(X_resampled, y_resampled,test_size=0.2)"
   ]
  },
  {
   "cell_type": "code",
   "execution_count": 520,
   "id": "da20343d",
   "metadata": {
    "ExecuteTime": {
     "end_time": "2023-02-10T15:05:45.320022Z",
     "start_time": "2023-02-10T15:05:45.307019Z"
    }
   },
   "outputs": [],
   "source": [
    "model_dt_smote=DecisionTreeClassifier(criterion = \"gini\",random_state =100,max_depth=6, min_samples_leaf=8)"
   ]
  },
  {
   "cell_type": "code",
   "execution_count": 521,
   "id": "dc15acea",
   "metadata": {
    "ExecuteTime": {
     "end_time": "2023-02-10T15:05:45.398078Z",
     "start_time": "2023-02-10T15:05:45.323022Z"
    }
   },
   "outputs": [
    {
     "name": "stdout",
     "output_type": "stream",
     "text": [
      "0.9126050420168067\n",
      "              precision    recall  f1-score   support\n",
      "\n",
      "           0       0.92      0.89      0.90       553\n",
      "           1       0.91      0.93      0.92       637\n",
      "\n",
      "    accuracy                           0.91      1190\n",
      "   macro avg       0.91      0.91      0.91      1190\n",
      "weighted avg       0.91      0.91      0.91      1190\n",
      "\n"
     ]
    }
   ],
   "source": [
    "model_dt_smote.fit(xr_train,yr_train)\n",
    "yr_predict = model_dt_smote.predict(xr_test)\n",
    "model_score_r = model_dt_smote.score(xr_test, yr_test)\n",
    "print(model_score_r)\n",
    "print(metrics.classification_report(yr_test, yr_predict))"
   ]
  },
  {
   "cell_type": "code",
   "execution_count": 522,
   "id": "4bf1be71",
   "metadata": {
    "ExecuteTime": {
     "end_time": "2023-02-10T15:05:45.413250Z",
     "start_time": "2023-02-10T15:05:45.402757Z"
    },
    "scrolled": true
   },
   "outputs": [
    {
     "name": "stdout",
     "output_type": "stream",
     "text": [
      "[[492  61]\n",
      " [ 43 594]]\n"
     ]
    }
   ],
   "source": [
    "print(metrics.confusion_matrix(yr_test, yr_predict))"
   ]
  },
  {
   "cell_type": "markdown",
   "id": "7053b0c9",
   "metadata": {},
   "source": [
    "# Random Forest Classifier"
   ]
  },
  {
   "cell_type": "code",
   "execution_count": 523,
   "id": "1e2d426e",
   "metadata": {
    "ExecuteTime": {
     "end_time": "2023-02-10T15:05:45.428286Z",
     "start_time": "2023-02-10T15:05:45.416971Z"
    }
   },
   "outputs": [],
   "source": [
    "model_rf=RandomForestClassifier(n_estimators=100, criterion='gini', random_state = 100,max_depth=6, min_samples_leaf=8)"
   ]
  },
  {
   "cell_type": "code",
   "execution_count": 524,
   "id": "95581c3e",
   "metadata": {
    "ExecuteTime": {
     "end_time": "2023-02-10T15:05:46.007390Z",
     "start_time": "2023-02-10T15:05:45.432441Z"
    },
    "scrolled": true
   },
   "outputs": [
    {
     "data": {
      "text/html": [
       "<style>#sk-container-id-29 {color: black;background-color: white;}#sk-container-id-29 pre{padding: 0;}#sk-container-id-29 div.sk-toggleable {background-color: white;}#sk-container-id-29 label.sk-toggleable__label {cursor: pointer;display: block;width: 100%;margin-bottom: 0;padding: 0.3em;box-sizing: border-box;text-align: center;}#sk-container-id-29 label.sk-toggleable__label-arrow:before {content: \"▸\";float: left;margin-right: 0.25em;color: #696969;}#sk-container-id-29 label.sk-toggleable__label-arrow:hover:before {color: black;}#sk-container-id-29 div.sk-estimator:hover label.sk-toggleable__label-arrow:before {color: black;}#sk-container-id-29 div.sk-toggleable__content {max-height: 0;max-width: 0;overflow: hidden;text-align: left;background-color: #f0f8ff;}#sk-container-id-29 div.sk-toggleable__content pre {margin: 0.2em;color: black;border-radius: 0.25em;background-color: #f0f8ff;}#sk-container-id-29 input.sk-toggleable__control:checked~div.sk-toggleable__content {max-height: 200px;max-width: 100%;overflow: auto;}#sk-container-id-29 input.sk-toggleable__control:checked~label.sk-toggleable__label-arrow:before {content: \"▾\";}#sk-container-id-29 div.sk-estimator input.sk-toggleable__control:checked~label.sk-toggleable__label {background-color: #d4ebff;}#sk-container-id-29 div.sk-label input.sk-toggleable__control:checked~label.sk-toggleable__label {background-color: #d4ebff;}#sk-container-id-29 input.sk-hidden--visually {border: 0;clip: rect(1px 1px 1px 1px);clip: rect(1px, 1px, 1px, 1px);height: 1px;margin: -1px;overflow: hidden;padding: 0;position: absolute;width: 1px;}#sk-container-id-29 div.sk-estimator {font-family: monospace;background-color: #f0f8ff;border: 1px dotted black;border-radius: 0.25em;box-sizing: border-box;margin-bottom: 0.5em;}#sk-container-id-29 div.sk-estimator:hover {background-color: #d4ebff;}#sk-container-id-29 div.sk-parallel-item::after {content: \"\";width: 100%;border-bottom: 1px solid gray;flex-grow: 1;}#sk-container-id-29 div.sk-label:hover label.sk-toggleable__label {background-color: #d4ebff;}#sk-container-id-29 div.sk-serial::before {content: \"\";position: absolute;border-left: 1px solid gray;box-sizing: border-box;top: 0;bottom: 0;left: 50%;z-index: 0;}#sk-container-id-29 div.sk-serial {display: flex;flex-direction: column;align-items: center;background-color: white;padding-right: 0.2em;padding-left: 0.2em;position: relative;}#sk-container-id-29 div.sk-item {position: relative;z-index: 1;}#sk-container-id-29 div.sk-parallel {display: flex;align-items: stretch;justify-content: center;background-color: white;position: relative;}#sk-container-id-29 div.sk-item::before, #sk-container-id-29 div.sk-parallel-item::before {content: \"\";position: absolute;border-left: 1px solid gray;box-sizing: border-box;top: 0;bottom: 0;left: 50%;z-index: -1;}#sk-container-id-29 div.sk-parallel-item {display: flex;flex-direction: column;z-index: 1;position: relative;background-color: white;}#sk-container-id-29 div.sk-parallel-item:first-child::after {align-self: flex-end;width: 50%;}#sk-container-id-29 div.sk-parallel-item:last-child::after {align-self: flex-start;width: 50%;}#sk-container-id-29 div.sk-parallel-item:only-child::after {width: 0;}#sk-container-id-29 div.sk-dashed-wrapped {border: 1px dashed gray;margin: 0 0.4em 0.5em 0.4em;box-sizing: border-box;padding-bottom: 0.4em;background-color: white;}#sk-container-id-29 div.sk-label label {font-family: monospace;font-weight: bold;display: inline-block;line-height: 1.2em;}#sk-container-id-29 div.sk-label-container {text-align: center;}#sk-container-id-29 div.sk-container {/* jupyter's `normalize.less` sets `[hidden] { display: none; }` but bootstrap.min.css set `[hidden] { display: none !important; }` so we also need the `!important` here to be able to override the default hidden behavior on the sphinx rendered scikit-learn.org. See: https://github.com/scikit-learn/scikit-learn/issues/21755 */display: inline-block !important;position: relative;}#sk-container-id-29 div.sk-text-repr-fallback {display: none;}</style><div id=\"sk-container-id-29\" class=\"sk-top-container\"><div class=\"sk-text-repr-fallback\"><pre>RandomForestClassifier(max_depth=6, min_samples_leaf=8, random_state=100)</pre><b>In a Jupyter environment, please rerun this cell to show the HTML representation or trust the notebook. <br />On GitHub, the HTML representation is unable to render, please try loading this page with nbviewer.org.</b></div><div class=\"sk-container\" hidden><div class=\"sk-item\"><div class=\"sk-estimator sk-toggleable\"><input class=\"sk-toggleable__control sk-hidden--visually\" id=\"sk-estimator-id-35\" type=\"checkbox\" checked><label for=\"sk-estimator-id-35\" class=\"sk-toggleable__label sk-toggleable__label-arrow\">RandomForestClassifier</label><div class=\"sk-toggleable__content\"><pre>RandomForestClassifier(max_depth=6, min_samples_leaf=8, random_state=100)</pre></div></div></div></div></div>"
      ],
      "text/plain": [
       "RandomForestClassifier(max_depth=6, min_samples_leaf=8, random_state=100)"
      ]
     },
     "execution_count": 524,
     "metadata": {},
     "output_type": "execute_result"
    }
   ],
   "source": [
    "model_rf.fit(x_train,y_train)"
   ]
  },
  {
   "cell_type": "code",
   "execution_count": 525,
   "id": "32565542",
   "metadata": {
    "ExecuteTime": {
     "end_time": "2023-02-10T15:05:46.070742Z",
     "start_time": "2023-02-10T15:05:46.012265Z"
    }
   },
   "outputs": [],
   "source": [
    "y_pred=model_rf.predict(x_test)"
   ]
  },
  {
   "cell_type": "code",
   "execution_count": 526,
   "id": "c8fd79e8",
   "metadata": {
    "ExecuteTime": {
     "end_time": "2023-02-10T15:05:46.134572Z",
     "start_time": "2023-02-10T15:05:46.075541Z"
    }
   },
   "outputs": [
    {
     "data": {
      "text/plain": [
       "0.8718232044198895"
      ]
     },
     "execution_count": 526,
     "metadata": {},
     "output_type": "execute_result"
    }
   ],
   "source": [
    "model_rf.score(x_test,y_test)"
   ]
  },
  {
   "cell_type": "code",
   "execution_count": 527,
   "id": "687ae8a1",
   "metadata": {
    "ExecuteTime": {
     "end_time": "2023-02-10T15:05:46.166579Z",
     "start_time": "2023-02-10T15:05:46.137573Z"
    }
   },
   "outputs": [
    {
     "name": "stdout",
     "output_type": "stream",
     "text": [
      "              precision    recall  f1-score   support\n",
      "\n",
      "           0       0.87      1.00      0.93       789\n",
      "           1       0.00      0.00      0.00       116\n",
      "\n",
      "    accuracy                           0.87       905\n",
      "   macro avg       0.44      0.50      0.47       905\n",
      "weighted avg       0.76      0.87      0.81       905\n",
      "\n"
     ]
    },
    {
     "name": "stderr",
     "output_type": "stream",
     "text": [
      "C:\\Users\\Apeksha\\anaconda3\\lib\\site-packages\\sklearn\\metrics\\_classification.py:1344: UndefinedMetricWarning: Precision and F-score are ill-defined and being set to 0.0 in labels with no predicted samples. Use `zero_division` parameter to control this behavior.\n",
      "  _warn_prf(average, modifier, msg_start, len(result))\n",
      "C:\\Users\\Apeksha\\anaconda3\\lib\\site-packages\\sklearn\\metrics\\_classification.py:1344: UndefinedMetricWarning: Precision and F-score are ill-defined and being set to 0.0 in labels with no predicted samples. Use `zero_division` parameter to control this behavior.\n",
      "  _warn_prf(average, modifier, msg_start, len(result))\n",
      "C:\\Users\\Apeksha\\anaconda3\\lib\\site-packages\\sklearn\\metrics\\_classification.py:1344: UndefinedMetricWarning: Precision and F-score are ill-defined and being set to 0.0 in labels with no predicted samples. Use `zero_division` parameter to control this behavior.\n",
      "  _warn_prf(average, modifier, msg_start, len(result))\n"
     ]
    }
   ],
   "source": [
    "print(classification_report(y_test, y_pred, labels=[0,1]))"
   ]
  },
  {
   "cell_type": "code",
   "execution_count": 528,
   "id": "23e7528a",
   "metadata": {
    "ExecuteTime": {
     "end_time": "2023-02-10T15:05:46.182584Z",
     "start_time": "2023-02-10T15:05:46.171580Z"
    }
   },
   "outputs": [
    {
     "name": "stdout",
     "output_type": "stream",
     "text": [
      "[[789   0]\n",
      " [116   0]]\n"
     ]
    }
   ],
   "source": [
    "print(metrics.confusion_matrix(y_test, y_pred))"
   ]
  },
  {
   "cell_type": "code",
   "execution_count": 529,
   "id": "0ee93522",
   "metadata": {
    "ExecuteTime": {
     "end_time": "2023-02-10T15:05:46.198587Z",
     "start_time": "2023-02-10T15:05:46.186586Z"
    }
   },
   "outputs": [],
   "source": [
    "xr_train1,xr_test1,yr_train1,yr_test1=train_test_split(X_resampled, y_resampled,test_size=0.2)\n"
   ]
  },
  {
   "cell_type": "code",
   "execution_count": 530,
   "id": "74595303",
   "metadata": {
    "ExecuteTime": {
     "end_time": "2023-02-10T15:05:47.134011Z",
     "start_time": "2023-02-10T15:05:46.202587Z"
    }
   },
   "outputs": [
    {
     "data": {
      "text/html": [
       "<style>#sk-container-id-30 {color: black;background-color: white;}#sk-container-id-30 pre{padding: 0;}#sk-container-id-30 div.sk-toggleable {background-color: white;}#sk-container-id-30 label.sk-toggleable__label {cursor: pointer;display: block;width: 100%;margin-bottom: 0;padding: 0.3em;box-sizing: border-box;text-align: center;}#sk-container-id-30 label.sk-toggleable__label-arrow:before {content: \"▸\";float: left;margin-right: 0.25em;color: #696969;}#sk-container-id-30 label.sk-toggleable__label-arrow:hover:before {color: black;}#sk-container-id-30 div.sk-estimator:hover label.sk-toggleable__label-arrow:before {color: black;}#sk-container-id-30 div.sk-toggleable__content {max-height: 0;max-width: 0;overflow: hidden;text-align: left;background-color: #f0f8ff;}#sk-container-id-30 div.sk-toggleable__content pre {margin: 0.2em;color: black;border-radius: 0.25em;background-color: #f0f8ff;}#sk-container-id-30 input.sk-toggleable__control:checked~div.sk-toggleable__content {max-height: 200px;max-width: 100%;overflow: auto;}#sk-container-id-30 input.sk-toggleable__control:checked~label.sk-toggleable__label-arrow:before {content: \"▾\";}#sk-container-id-30 div.sk-estimator input.sk-toggleable__control:checked~label.sk-toggleable__label {background-color: #d4ebff;}#sk-container-id-30 div.sk-label input.sk-toggleable__control:checked~label.sk-toggleable__label {background-color: #d4ebff;}#sk-container-id-30 input.sk-hidden--visually {border: 0;clip: rect(1px 1px 1px 1px);clip: rect(1px, 1px, 1px, 1px);height: 1px;margin: -1px;overflow: hidden;padding: 0;position: absolute;width: 1px;}#sk-container-id-30 div.sk-estimator {font-family: monospace;background-color: #f0f8ff;border: 1px dotted black;border-radius: 0.25em;box-sizing: border-box;margin-bottom: 0.5em;}#sk-container-id-30 div.sk-estimator:hover {background-color: #d4ebff;}#sk-container-id-30 div.sk-parallel-item::after {content: \"\";width: 100%;border-bottom: 1px solid gray;flex-grow: 1;}#sk-container-id-30 div.sk-label:hover label.sk-toggleable__label {background-color: #d4ebff;}#sk-container-id-30 div.sk-serial::before {content: \"\";position: absolute;border-left: 1px solid gray;box-sizing: border-box;top: 0;bottom: 0;left: 50%;z-index: 0;}#sk-container-id-30 div.sk-serial {display: flex;flex-direction: column;align-items: center;background-color: white;padding-right: 0.2em;padding-left: 0.2em;position: relative;}#sk-container-id-30 div.sk-item {position: relative;z-index: 1;}#sk-container-id-30 div.sk-parallel {display: flex;align-items: stretch;justify-content: center;background-color: white;position: relative;}#sk-container-id-30 div.sk-item::before, #sk-container-id-30 div.sk-parallel-item::before {content: \"\";position: absolute;border-left: 1px solid gray;box-sizing: border-box;top: 0;bottom: 0;left: 50%;z-index: -1;}#sk-container-id-30 div.sk-parallel-item {display: flex;flex-direction: column;z-index: 1;position: relative;background-color: white;}#sk-container-id-30 div.sk-parallel-item:first-child::after {align-self: flex-end;width: 50%;}#sk-container-id-30 div.sk-parallel-item:last-child::after {align-self: flex-start;width: 50%;}#sk-container-id-30 div.sk-parallel-item:only-child::after {width: 0;}#sk-container-id-30 div.sk-dashed-wrapped {border: 1px dashed gray;margin: 0 0.4em 0.5em 0.4em;box-sizing: border-box;padding-bottom: 0.4em;background-color: white;}#sk-container-id-30 div.sk-label label {font-family: monospace;font-weight: bold;display: inline-block;line-height: 1.2em;}#sk-container-id-30 div.sk-label-container {text-align: center;}#sk-container-id-30 div.sk-container {/* jupyter's `normalize.less` sets `[hidden] { display: none; }` but bootstrap.min.css set `[hidden] { display: none !important; }` so we also need the `!important` here to be able to override the default hidden behavior on the sphinx rendered scikit-learn.org. See: https://github.com/scikit-learn/scikit-learn/issues/21755 */display: inline-block !important;position: relative;}#sk-container-id-30 div.sk-text-repr-fallback {display: none;}</style><div id=\"sk-container-id-30\" class=\"sk-top-container\"><div class=\"sk-text-repr-fallback\"><pre>RandomForestClassifier(max_depth=6, min_samples_leaf=8, random_state=100)</pre><b>In a Jupyter environment, please rerun this cell to show the HTML representation or trust the notebook. <br />On GitHub, the HTML representation is unable to render, please try loading this page with nbviewer.org.</b></div><div class=\"sk-container\" hidden><div class=\"sk-item\"><div class=\"sk-estimator sk-toggleable\"><input class=\"sk-toggleable__control sk-hidden--visually\" id=\"sk-estimator-id-36\" type=\"checkbox\" checked><label for=\"sk-estimator-id-36\" class=\"sk-toggleable__label sk-toggleable__label-arrow\">RandomForestClassifier</label><div class=\"sk-toggleable__content\"><pre>RandomForestClassifier(max_depth=6, min_samples_leaf=8, random_state=100)</pre></div></div></div></div></div>"
      ],
      "text/plain": [
       "RandomForestClassifier(max_depth=6, min_samples_leaf=8, random_state=100)"
      ]
     },
     "execution_count": 530,
     "metadata": {},
     "output_type": "execute_result"
    }
   ],
   "source": [
    "model_rf_smote=RandomForestClassifier(n_estimators=100, criterion='gini', random_state = 100,max_depth=6, min_samples_leaf=8)\n",
    "model_rf_smote.fit(xr_train1,yr_train1)"
   ]
  },
  {
   "cell_type": "code",
   "execution_count": 531,
   "id": "281ce526",
   "metadata": {
    "ExecuteTime": {
     "end_time": "2023-02-10T15:05:47.261427Z",
     "start_time": "2023-02-10T15:05:47.138012Z"
    }
   },
   "outputs": [
    {
     "name": "stdout",
     "output_type": "stream",
     "text": [
      "0.9302521008403362\n",
      "              precision    recall  f1-score   support\n",
      "\n",
      "           0       0.94      0.91      0.92       559\n",
      "           1       0.93      0.94      0.93       631\n",
      "\n",
      "    accuracy                           0.93      1190\n",
      "   macro avg       0.93      0.93      0.93      1190\n",
      "weighted avg       0.93      0.93      0.93      1190\n",
      "\n"
     ]
    }
   ],
   "source": [
    "yr_predict1 = model_rf_smote.predict(xr_test1)\n",
    "model_score_r1 = model_rf_smote.score(xr_test1, yr_test1)\n",
    "print(model_score_r1)\n",
    "print(metrics.classification_report(yr_test1, yr_predict1))"
   ]
  },
  {
   "cell_type": "code",
   "execution_count": 532,
   "id": "1886c954",
   "metadata": {
    "ExecuteTime": {
     "end_time": "2023-02-10T15:05:47.277424Z",
     "start_time": "2023-02-10T15:05:47.265444Z"
    }
   },
   "outputs": [
    {
     "name": "stdout",
     "output_type": "stream",
     "text": [
      "[[511  48]\n",
      " [ 35 596]]\n"
     ]
    }
   ],
   "source": [
    "print(metrics.confusion_matrix(yr_test1, yr_predict1))"
   ]
  },
  {
   "cell_type": "code",
   "execution_count": 533,
   "id": "275ee128",
   "metadata": {
    "ExecuteTime": {
     "end_time": "2023-02-10T15:05:47.293428Z",
     "start_time": "2023-02-10T15:05:47.281425Z"
    }
   },
   "outputs": [],
   "source": [
    "xr_train2,xr_test2,yr_train2,yr_test2=train_test_split(X_resampled, y_resampled,test_size=0.2)"
   ]
  },
  {
   "cell_type": "markdown",
   "id": "91ef4258",
   "metadata": {},
   "source": [
    "# XGBoost Classifier"
   ]
  },
  {
   "cell_type": "code",
   "execution_count": 534,
   "id": "622eb5c5",
   "metadata": {
    "ExecuteTime": {
     "end_time": "2023-02-10T15:05:47.780072Z",
     "start_time": "2023-02-10T15:05:47.297429Z"
    }
   },
   "outputs": [
    {
     "data": {
      "text/html": [
       "<style>#sk-container-id-31 {color: black;background-color: white;}#sk-container-id-31 pre{padding: 0;}#sk-container-id-31 div.sk-toggleable {background-color: white;}#sk-container-id-31 label.sk-toggleable__label {cursor: pointer;display: block;width: 100%;margin-bottom: 0;padding: 0.3em;box-sizing: border-box;text-align: center;}#sk-container-id-31 label.sk-toggleable__label-arrow:before {content: \"▸\";float: left;margin-right: 0.25em;color: #696969;}#sk-container-id-31 label.sk-toggleable__label-arrow:hover:before {color: black;}#sk-container-id-31 div.sk-estimator:hover label.sk-toggleable__label-arrow:before {color: black;}#sk-container-id-31 div.sk-toggleable__content {max-height: 0;max-width: 0;overflow: hidden;text-align: left;background-color: #f0f8ff;}#sk-container-id-31 div.sk-toggleable__content pre {margin: 0.2em;color: black;border-radius: 0.25em;background-color: #f0f8ff;}#sk-container-id-31 input.sk-toggleable__control:checked~div.sk-toggleable__content {max-height: 200px;max-width: 100%;overflow: auto;}#sk-container-id-31 input.sk-toggleable__control:checked~label.sk-toggleable__label-arrow:before {content: \"▾\";}#sk-container-id-31 div.sk-estimator input.sk-toggleable__control:checked~label.sk-toggleable__label {background-color: #d4ebff;}#sk-container-id-31 div.sk-label input.sk-toggleable__control:checked~label.sk-toggleable__label {background-color: #d4ebff;}#sk-container-id-31 input.sk-hidden--visually {border: 0;clip: rect(1px 1px 1px 1px);clip: rect(1px, 1px, 1px, 1px);height: 1px;margin: -1px;overflow: hidden;padding: 0;position: absolute;width: 1px;}#sk-container-id-31 div.sk-estimator {font-family: monospace;background-color: #f0f8ff;border: 1px dotted black;border-radius: 0.25em;box-sizing: border-box;margin-bottom: 0.5em;}#sk-container-id-31 div.sk-estimator:hover {background-color: #d4ebff;}#sk-container-id-31 div.sk-parallel-item::after {content: \"\";width: 100%;border-bottom: 1px solid gray;flex-grow: 1;}#sk-container-id-31 div.sk-label:hover label.sk-toggleable__label {background-color: #d4ebff;}#sk-container-id-31 div.sk-serial::before {content: \"\";position: absolute;border-left: 1px solid gray;box-sizing: border-box;top: 0;bottom: 0;left: 50%;z-index: 0;}#sk-container-id-31 div.sk-serial {display: flex;flex-direction: column;align-items: center;background-color: white;padding-right: 0.2em;padding-left: 0.2em;position: relative;}#sk-container-id-31 div.sk-item {position: relative;z-index: 1;}#sk-container-id-31 div.sk-parallel {display: flex;align-items: stretch;justify-content: center;background-color: white;position: relative;}#sk-container-id-31 div.sk-item::before, #sk-container-id-31 div.sk-parallel-item::before {content: \"\";position: absolute;border-left: 1px solid gray;box-sizing: border-box;top: 0;bottom: 0;left: 50%;z-index: -1;}#sk-container-id-31 div.sk-parallel-item {display: flex;flex-direction: column;z-index: 1;position: relative;background-color: white;}#sk-container-id-31 div.sk-parallel-item:first-child::after {align-self: flex-end;width: 50%;}#sk-container-id-31 div.sk-parallel-item:last-child::after {align-self: flex-start;width: 50%;}#sk-container-id-31 div.sk-parallel-item:only-child::after {width: 0;}#sk-container-id-31 div.sk-dashed-wrapped {border: 1px dashed gray;margin: 0 0.4em 0.5em 0.4em;box-sizing: border-box;padding-bottom: 0.4em;background-color: white;}#sk-container-id-31 div.sk-label label {font-family: monospace;font-weight: bold;display: inline-block;line-height: 1.2em;}#sk-container-id-31 div.sk-label-container {text-align: center;}#sk-container-id-31 div.sk-container {/* jupyter's `normalize.less` sets `[hidden] { display: none; }` but bootstrap.min.css set `[hidden] { display: none !important; }` so we also need the `!important` here to be able to override the default hidden behavior on the sphinx rendered scikit-learn.org. See: https://github.com/scikit-learn/scikit-learn/issues/21755 */display: inline-block !important;position: relative;}#sk-container-id-31 div.sk-text-repr-fallback {display: none;}</style><div id=\"sk-container-id-31\" class=\"sk-top-container\"><div class=\"sk-text-repr-fallback\"><pre>XGBClassifier(base_score=None, booster=None, callbacks=None,\n",
       "              colsample_bylevel=None, colsample_bynode=None,\n",
       "              colsample_bytree=None, early_stopping_rounds=None,\n",
       "              enable_categorical=False, eval_metric=None, feature_types=None,\n",
       "              gamma=None, gpu_id=None, grow_policy=None, importance_type=None,\n",
       "              interaction_constraints=None, learning_rate=None, max_bin=None,\n",
       "              max_cat_threshold=None, max_cat_to_onehot=None,\n",
       "              max_delta_step=None, max_depth=None, max_leaves=None,\n",
       "              min_child_weight=None, missing=nan, monotone_constraints=None,\n",
       "              n_estimators=100, n_jobs=None, num_parallel_tree=None,\n",
       "              predictor=None, random_state=100, ...)</pre><b>In a Jupyter environment, please rerun this cell to show the HTML representation or trust the notebook. <br />On GitHub, the HTML representation is unable to render, please try loading this page with nbviewer.org.</b></div><div class=\"sk-container\" hidden><div class=\"sk-item\"><div class=\"sk-estimator sk-toggleable\"><input class=\"sk-toggleable__control sk-hidden--visually\" id=\"sk-estimator-id-37\" type=\"checkbox\" checked><label for=\"sk-estimator-id-37\" class=\"sk-toggleable__label sk-toggleable__label-arrow\">XGBClassifier</label><div class=\"sk-toggleable__content\"><pre>XGBClassifier(base_score=None, booster=None, callbacks=None,\n",
       "              colsample_bylevel=None, colsample_bynode=None,\n",
       "              colsample_bytree=None, early_stopping_rounds=None,\n",
       "              enable_categorical=False, eval_metric=None, feature_types=None,\n",
       "              gamma=None, gpu_id=None, grow_policy=None, importance_type=None,\n",
       "              interaction_constraints=None, learning_rate=None, max_bin=None,\n",
       "              max_cat_threshold=None, max_cat_to_onehot=None,\n",
       "              max_delta_step=None, max_depth=None, max_leaves=None,\n",
       "              min_child_weight=None, missing=nan, monotone_constraints=None,\n",
       "              n_estimators=100, n_jobs=None, num_parallel_tree=None,\n",
       "              predictor=None, random_state=100, ...)</pre></div></div></div></div></div>"
      ],
      "text/plain": [
       "XGBClassifier(base_score=None, booster=None, callbacks=None,\n",
       "              colsample_bylevel=None, colsample_bynode=None,\n",
       "              colsample_bytree=None, early_stopping_rounds=None,\n",
       "              enable_categorical=False, eval_metric=None, feature_types=None,\n",
       "              gamma=None, gpu_id=None, grow_policy=None, importance_type=None,\n",
       "              interaction_constraints=None, learning_rate=None, max_bin=None,\n",
       "              max_cat_threshold=None, max_cat_to_onehot=None,\n",
       "              max_delta_step=None, max_depth=None, max_leaves=None,\n",
       "              min_child_weight=None, missing=nan, monotone_constraints=None,\n",
       "              n_estimators=100, n_jobs=None, num_parallel_tree=None,\n",
       "              predictor=None, random_state=100, ...)"
      ]
     },
     "execution_count": 534,
     "metadata": {},
     "output_type": "execute_result"
    }
   ],
   "source": [
    "model_xg_smote=XGBClassifier(n_estimators=100, random_state = 100)\n",
    "model_xg_smote.fit(xr_train2,yr_train2)"
   ]
  },
  {
   "cell_type": "code",
   "execution_count": 535,
   "id": "15795dae",
   "metadata": {
    "ExecuteTime": {
     "end_time": "2023-02-10T15:05:47.795810Z",
     "start_time": "2023-02-10T15:05:47.784074Z"
    }
   },
   "outputs": [],
   "source": [
    "yr_predict2 = model_xg_smote.predict(xr_test2)"
   ]
  },
  {
   "cell_type": "code",
   "execution_count": 536,
   "id": "21de58b3",
   "metadata": {
    "ExecuteTime": {
     "end_time": "2023-02-10T15:05:47.827820Z",
     "start_time": "2023-02-10T15:05:47.811815Z"
    }
   },
   "outputs": [],
   "source": [
    "model_score_r2 = model_xg_smote.score(xr_test2, yr_test2)"
   ]
  },
  {
   "cell_type": "code",
   "execution_count": 537,
   "id": "5db2134c",
   "metadata": {
    "ExecuteTime": {
     "end_time": "2023-02-10T15:05:47.858826Z",
     "start_time": "2023-02-10T15:05:47.831822Z"
    }
   },
   "outputs": [
    {
     "name": "stdout",
     "output_type": "stream",
     "text": [
      "0.9773109243697479\n",
      "              precision    recall  f1-score   support\n",
      "\n",
      "           0       0.98      0.98      0.98       568\n",
      "           1       0.98      0.98      0.98       622\n",
      "\n",
      "    accuracy                           0.98      1190\n",
      "   macro avg       0.98      0.98      0.98      1190\n",
      "weighted avg       0.98      0.98      0.98      1190\n",
      "\n",
      "[[554  14]\n",
      " [ 13 609]]\n"
     ]
    }
   ],
   "source": [
    "print(model_score_r2)\n",
    "print(metrics.classification_report(yr_test2, yr_predict2))\n",
    "print(metrics.confusion_matrix(yr_test2, yr_predict2))"
   ]
  },
  {
   "cell_type": "code",
   "execution_count": 538,
   "id": "ba43f9f7",
   "metadata": {
    "ExecuteTime": {
     "end_time": "2023-02-10T15:05:47.873829Z",
     "start_time": "2023-02-10T15:05:47.861827Z"
    }
   },
   "outputs": [],
   "source": [
    "xr_train3,xr_test3,yr_train3,yr_test3=train_test_split(X_resampled, y_resampled,test_size=0.2)"
   ]
  },
  {
   "cell_type": "markdown",
   "id": "8bd310fa",
   "metadata": {},
   "source": [
    "# Logistic Regression"
   ]
  },
  {
   "cell_type": "code",
   "execution_count": 539,
   "id": "763bbf8e",
   "metadata": {
    "ExecuteTime": {
     "end_time": "2023-02-10T15:05:47.999601Z",
     "start_time": "2023-02-10T15:05:47.876831Z"
    }
   },
   "outputs": [
    {
     "name": "stderr",
     "output_type": "stream",
     "text": [
      "C:\\Users\\Apeksha\\anaconda3\\lib\\site-packages\\sklearn\\linear_model\\_logistic.py:458: ConvergenceWarning: lbfgs failed to converge (status=1):\n",
      "STOP: TOTAL NO. of ITERATIONS REACHED LIMIT.\n",
      "\n",
      "Increase the number of iterations (max_iter) or scale the data as shown in:\n",
      "    https://scikit-learn.org/stable/modules/preprocessing.html\n",
      "Please also refer to the documentation for alternative solver options:\n",
      "    https://scikit-learn.org/stable/modules/linear_model.html#logistic-regression\n",
      "  n_iter_i = _check_optimize_result(\n"
     ]
    },
    {
     "data": {
      "text/html": [
       "<style>#sk-container-id-32 {color: black;background-color: white;}#sk-container-id-32 pre{padding: 0;}#sk-container-id-32 div.sk-toggleable {background-color: white;}#sk-container-id-32 label.sk-toggleable__label {cursor: pointer;display: block;width: 100%;margin-bottom: 0;padding: 0.3em;box-sizing: border-box;text-align: center;}#sk-container-id-32 label.sk-toggleable__label-arrow:before {content: \"▸\";float: left;margin-right: 0.25em;color: #696969;}#sk-container-id-32 label.sk-toggleable__label-arrow:hover:before {color: black;}#sk-container-id-32 div.sk-estimator:hover label.sk-toggleable__label-arrow:before {color: black;}#sk-container-id-32 div.sk-toggleable__content {max-height: 0;max-width: 0;overflow: hidden;text-align: left;background-color: #f0f8ff;}#sk-container-id-32 div.sk-toggleable__content pre {margin: 0.2em;color: black;border-radius: 0.25em;background-color: #f0f8ff;}#sk-container-id-32 input.sk-toggleable__control:checked~div.sk-toggleable__content {max-height: 200px;max-width: 100%;overflow: auto;}#sk-container-id-32 input.sk-toggleable__control:checked~label.sk-toggleable__label-arrow:before {content: \"▾\";}#sk-container-id-32 div.sk-estimator input.sk-toggleable__control:checked~label.sk-toggleable__label {background-color: #d4ebff;}#sk-container-id-32 div.sk-label input.sk-toggleable__control:checked~label.sk-toggleable__label {background-color: #d4ebff;}#sk-container-id-32 input.sk-hidden--visually {border: 0;clip: rect(1px 1px 1px 1px);clip: rect(1px, 1px, 1px, 1px);height: 1px;margin: -1px;overflow: hidden;padding: 0;position: absolute;width: 1px;}#sk-container-id-32 div.sk-estimator {font-family: monospace;background-color: #f0f8ff;border: 1px dotted black;border-radius: 0.25em;box-sizing: border-box;margin-bottom: 0.5em;}#sk-container-id-32 div.sk-estimator:hover {background-color: #d4ebff;}#sk-container-id-32 div.sk-parallel-item::after {content: \"\";width: 100%;border-bottom: 1px solid gray;flex-grow: 1;}#sk-container-id-32 div.sk-label:hover label.sk-toggleable__label {background-color: #d4ebff;}#sk-container-id-32 div.sk-serial::before {content: \"\";position: absolute;border-left: 1px solid gray;box-sizing: border-box;top: 0;bottom: 0;left: 50%;z-index: 0;}#sk-container-id-32 div.sk-serial {display: flex;flex-direction: column;align-items: center;background-color: white;padding-right: 0.2em;padding-left: 0.2em;position: relative;}#sk-container-id-32 div.sk-item {position: relative;z-index: 1;}#sk-container-id-32 div.sk-parallel {display: flex;align-items: stretch;justify-content: center;background-color: white;position: relative;}#sk-container-id-32 div.sk-item::before, #sk-container-id-32 div.sk-parallel-item::before {content: \"\";position: absolute;border-left: 1px solid gray;box-sizing: border-box;top: 0;bottom: 0;left: 50%;z-index: -1;}#sk-container-id-32 div.sk-parallel-item {display: flex;flex-direction: column;z-index: 1;position: relative;background-color: white;}#sk-container-id-32 div.sk-parallel-item:first-child::after {align-self: flex-end;width: 50%;}#sk-container-id-32 div.sk-parallel-item:last-child::after {align-self: flex-start;width: 50%;}#sk-container-id-32 div.sk-parallel-item:only-child::after {width: 0;}#sk-container-id-32 div.sk-dashed-wrapped {border: 1px dashed gray;margin: 0 0.4em 0.5em 0.4em;box-sizing: border-box;padding-bottom: 0.4em;background-color: white;}#sk-container-id-32 div.sk-label label {font-family: monospace;font-weight: bold;display: inline-block;line-height: 1.2em;}#sk-container-id-32 div.sk-label-container {text-align: center;}#sk-container-id-32 div.sk-container {/* jupyter's `normalize.less` sets `[hidden] { display: none; }` but bootstrap.min.css set `[hidden] { display: none !important; }` so we also need the `!important` here to be able to override the default hidden behavior on the sphinx rendered scikit-learn.org. See: https://github.com/scikit-learn/scikit-learn/issues/21755 */display: inline-block !important;position: relative;}#sk-container-id-32 div.sk-text-repr-fallback {display: none;}</style><div id=\"sk-container-id-32\" class=\"sk-top-container\"><div class=\"sk-text-repr-fallback\"><pre>LogisticRegression(random_state=100)</pre><b>In a Jupyter environment, please rerun this cell to show the HTML representation or trust the notebook. <br />On GitHub, the HTML representation is unable to render, please try loading this page with nbviewer.org.</b></div><div class=\"sk-container\" hidden><div class=\"sk-item\"><div class=\"sk-estimator sk-toggleable\"><input class=\"sk-toggleable__control sk-hidden--visually\" id=\"sk-estimator-id-38\" type=\"checkbox\" checked><label for=\"sk-estimator-id-38\" class=\"sk-toggleable__label sk-toggleable__label-arrow\">LogisticRegression</label><div class=\"sk-toggleable__content\"><pre>LogisticRegression(random_state=100)</pre></div></div></div></div></div>"
      ],
      "text/plain": [
       "LogisticRegression(random_state=100)"
      ]
     },
     "execution_count": 539,
     "metadata": {},
     "output_type": "execute_result"
    }
   ],
   "source": [
    "model_lr_smote=LogisticRegression( random_state = 100)\n",
    "model_lr_smote.fit(xr_train3,yr_train3)"
   ]
  },
  {
   "cell_type": "code",
   "execution_count": 540,
   "id": "2b17debf",
   "metadata": {
    "ExecuteTime": {
     "end_time": "2023-02-10T15:05:48.030862Z",
     "start_time": "2023-02-10T15:05:48.002599Z"
    }
   },
   "outputs": [],
   "source": [
    "LogisticRegression(random_state=100)\n",
    "yr_predict3 = model_lr_smote.predict(xr_test3)\n",
    "model_score_r3 = model_lr_smote.score(xr_test3, yr_test3)"
   ]
  },
  {
   "cell_type": "code",
   "execution_count": 541,
   "id": "1a13168c",
   "metadata": {
    "ExecuteTime": {
     "end_time": "2023-02-10T15:05:48.062872Z",
     "start_time": "2023-02-10T15:05:48.034860Z"
    },
    "scrolled": true
   },
   "outputs": [
    {
     "name": "stdout",
     "output_type": "stream",
     "text": [
      "0.8705882352941177\n",
      "              precision    recall  f1-score   support\n",
      "\n",
      "           0       0.85      0.87      0.86       548\n",
      "           1       0.89      0.87      0.88       642\n",
      "\n",
      "    accuracy                           0.87      1190\n",
      "   macro avg       0.87      0.87      0.87      1190\n",
      "weighted avg       0.87      0.87      0.87      1190\n",
      "\n",
      "[[476  72]\n",
      " [ 82 560]]\n"
     ]
    }
   ],
   "source": [
    "print(model_score_r3)\n",
    "print(metrics.classification_report(yr_test3, yr_predict3))\n",
    "print(metrics.confusion_matrix(yr_test3, yr_predict3))"
   ]
  },
  {
   "cell_type": "markdown",
   "id": "de585e13",
   "metadata": {},
   "source": [
    "# Cross Validation"
   ]
  },
  {
   "cell_type": "code",
   "execution_count": 542,
   "id": "0c8f4782",
   "metadata": {
    "ExecuteTime": {
     "end_time": "2023-02-10T15:05:48.078870Z",
     "start_time": "2023-02-10T15:05:48.066870Z"
    }
   },
   "outputs": [],
   "source": [
    "from sklearn.model_selection import KFold\n",
    "from sklearn.model_selection import cross_val_score\n",
    "import numpy as np"
   ]
  },
  {
   "cell_type": "code",
   "execution_count": 543,
   "id": "b2ae45f8",
   "metadata": {
    "ExecuteTime": {
     "end_time": "2023-02-10T15:05:48.094873Z",
     "start_time": "2023-02-10T15:05:48.083875Z"
    }
   },
   "outputs": [],
   "source": [
    "kfold = KFold(n_splits=10, shuffle= True, random_state=42)"
   ]
  },
  {
   "cell_type": "code",
   "execution_count": 544,
   "id": "9d950eb0",
   "metadata": {
    "ExecuteTime": {
     "end_time": "2023-02-10T15:05:51.726608Z",
     "start_time": "2023-02-10T15:05:48.098883Z"
    }
   },
   "outputs": [],
   "source": [
    "scores = cross_val_score(model_xg_smote,xr_train2,yr_train2, cv=kfold)"
   ]
  },
  {
   "cell_type": "code",
   "execution_count": 545,
   "id": "a5d912f3",
   "metadata": {
    "ExecuteTime": {
     "end_time": "2023-02-10T15:05:51.742515Z",
     "start_time": "2023-02-10T15:05:51.729611Z"
    },
    "scrolled": true
   },
   "outputs": [
    {
     "name": "stdout",
     "output_type": "stream",
     "text": [
      "Accuracy: 96.83% (0.54%)\n"
     ]
    }
   ],
   "source": [
    "print(\"Accuracy: %.2f%% (%.2f%%)\" % (scores.mean()*100, scores.std()*100))"
   ]
  },
  {
   "cell_type": "markdown",
   "id": "05e05405",
   "metadata": {},
   "source": [
    "# Random Search to find best parameters"
   ]
  },
  {
   "cell_type": "code",
   "execution_count": 546,
   "id": "74df95ba",
   "metadata": {
    "ExecuteTime": {
     "end_time": "2023-02-10T15:05:51.758519Z",
     "start_time": "2023-02-10T15:05:51.745518Z"
    }
   },
   "outputs": [],
   "source": [
    "from sklearn.model_selection import RandomizedSearchCV\n",
    "from scipy.stats import uniform, randint"
   ]
  },
  {
   "cell_type": "code",
   "execution_count": 547,
   "id": "8f5d8daa",
   "metadata": {
    "ExecuteTime": {
     "end_time": "2023-02-10T15:05:51.790527Z",
     "start_time": "2023-02-10T15:05:51.761521Z"
    }
   },
   "outputs": [],
   "source": [
    "params = {\n",
    "    \"n_estimators\": randint(50, 500),\n",
    "    \"max_depth\": randint(2, 10),\n",
    "    \"learning_rate\": uniform(0.01, 0.3),\n",
    "    \"colsample_bytree\": uniform(0.3, 0.7),\n",
    "    \"subsample\": uniform(0.3, 0.7),\n",
    "    \"gamma\": uniform(0, 0.5),\n",
    "    \"reg_lambda\": uniform(0, 2),\n",
    "}"
   ]
  },
  {
   "cell_type": "code",
   "execution_count": 548,
   "id": "ef296dac",
   "metadata": {
    "ExecuteTime": {
     "end_time": "2023-02-10T15:05:51.805529Z",
     "start_time": "2023-02-10T15:05:51.793529Z"
    }
   },
   "outputs": [],
   "source": [
    "rs = RandomizedSearchCV(model_xg_smote, params, cv=5, random_state=42, n_jobs=-1)"
   ]
  },
  {
   "cell_type": "code",
   "execution_count": 549,
   "id": "967f0ced",
   "metadata": {
    "ExecuteTime": {
     "end_time": "2023-02-10T15:06:03.817275Z",
     "start_time": "2023-02-10T15:05:51.808534Z"
    }
   },
   "outputs": [
    {
     "data": {
      "text/html": [
       "<style>#sk-container-id-33 {color: black;background-color: white;}#sk-container-id-33 pre{padding: 0;}#sk-container-id-33 div.sk-toggleable {background-color: white;}#sk-container-id-33 label.sk-toggleable__label {cursor: pointer;display: block;width: 100%;margin-bottom: 0;padding: 0.3em;box-sizing: border-box;text-align: center;}#sk-container-id-33 label.sk-toggleable__label-arrow:before {content: \"▸\";float: left;margin-right: 0.25em;color: #696969;}#sk-container-id-33 label.sk-toggleable__label-arrow:hover:before {color: black;}#sk-container-id-33 div.sk-estimator:hover label.sk-toggleable__label-arrow:before {color: black;}#sk-container-id-33 div.sk-toggleable__content {max-height: 0;max-width: 0;overflow: hidden;text-align: left;background-color: #f0f8ff;}#sk-container-id-33 div.sk-toggleable__content pre {margin: 0.2em;color: black;border-radius: 0.25em;background-color: #f0f8ff;}#sk-container-id-33 input.sk-toggleable__control:checked~div.sk-toggleable__content {max-height: 200px;max-width: 100%;overflow: auto;}#sk-container-id-33 input.sk-toggleable__control:checked~label.sk-toggleable__label-arrow:before {content: \"▾\";}#sk-container-id-33 div.sk-estimator input.sk-toggleable__control:checked~label.sk-toggleable__label {background-color: #d4ebff;}#sk-container-id-33 div.sk-label input.sk-toggleable__control:checked~label.sk-toggleable__label {background-color: #d4ebff;}#sk-container-id-33 input.sk-hidden--visually {border: 0;clip: rect(1px 1px 1px 1px);clip: rect(1px, 1px, 1px, 1px);height: 1px;margin: -1px;overflow: hidden;padding: 0;position: absolute;width: 1px;}#sk-container-id-33 div.sk-estimator {font-family: monospace;background-color: #f0f8ff;border: 1px dotted black;border-radius: 0.25em;box-sizing: border-box;margin-bottom: 0.5em;}#sk-container-id-33 div.sk-estimator:hover {background-color: #d4ebff;}#sk-container-id-33 div.sk-parallel-item::after {content: \"\";width: 100%;border-bottom: 1px solid gray;flex-grow: 1;}#sk-container-id-33 div.sk-label:hover label.sk-toggleable__label {background-color: #d4ebff;}#sk-container-id-33 div.sk-serial::before {content: \"\";position: absolute;border-left: 1px solid gray;box-sizing: border-box;top: 0;bottom: 0;left: 50%;z-index: 0;}#sk-container-id-33 div.sk-serial {display: flex;flex-direction: column;align-items: center;background-color: white;padding-right: 0.2em;padding-left: 0.2em;position: relative;}#sk-container-id-33 div.sk-item {position: relative;z-index: 1;}#sk-container-id-33 div.sk-parallel {display: flex;align-items: stretch;justify-content: center;background-color: white;position: relative;}#sk-container-id-33 div.sk-item::before, #sk-container-id-33 div.sk-parallel-item::before {content: \"\";position: absolute;border-left: 1px solid gray;box-sizing: border-box;top: 0;bottom: 0;left: 50%;z-index: -1;}#sk-container-id-33 div.sk-parallel-item {display: flex;flex-direction: column;z-index: 1;position: relative;background-color: white;}#sk-container-id-33 div.sk-parallel-item:first-child::after {align-self: flex-end;width: 50%;}#sk-container-id-33 div.sk-parallel-item:last-child::after {align-self: flex-start;width: 50%;}#sk-container-id-33 div.sk-parallel-item:only-child::after {width: 0;}#sk-container-id-33 div.sk-dashed-wrapped {border: 1px dashed gray;margin: 0 0.4em 0.5em 0.4em;box-sizing: border-box;padding-bottom: 0.4em;background-color: white;}#sk-container-id-33 div.sk-label label {font-family: monospace;font-weight: bold;display: inline-block;line-height: 1.2em;}#sk-container-id-33 div.sk-label-container {text-align: center;}#sk-container-id-33 div.sk-container {/* jupyter's `normalize.less` sets `[hidden] { display: none; }` but bootstrap.min.css set `[hidden] { display: none !important; }` so we also need the `!important` here to be able to override the default hidden behavior on the sphinx rendered scikit-learn.org. See: https://github.com/scikit-learn/scikit-learn/issues/21755 */display: inline-block !important;position: relative;}#sk-container-id-33 div.sk-text-repr-fallback {display: none;}</style><div id=\"sk-container-id-33\" class=\"sk-top-container\"><div class=\"sk-text-repr-fallback\"><pre>RandomizedSearchCV(cv=5,\n",
       "                   estimator=XGBClassifier(base_score=None, booster=None,\n",
       "                                           callbacks=None,\n",
       "                                           colsample_bylevel=None,\n",
       "                                           colsample_bynode=None,\n",
       "                                           colsample_bytree=None,\n",
       "                                           early_stopping_rounds=None,\n",
       "                                           enable_categorical=False,\n",
       "                                           eval_metric=None, feature_types=None,\n",
       "                                           gamma=None, gpu_id=None,\n",
       "                                           grow_policy=None,\n",
       "                                           importance_type=None,\n",
       "                                           interaction_constraints=None,\n",
       "                                           learning_rate...\n",
       "                                        &#x27;max_depth&#x27;: &lt;scipy.stats._distn_infrastructure.rv_frozen object at 0x0000012CE86D1BE0&gt;,\n",
       "                                        &#x27;n_estimators&#x27;: &lt;scipy.stats._distn_infrastructure.rv_frozen object at 0x0000012CEA007AF0&gt;,\n",
       "                                        &#x27;reg_lambda&#x27;: &lt;scipy.stats._distn_infrastructure.rv_frozen object at 0x0000012CE9448490&gt;,\n",
       "                                        &#x27;subsample&#x27;: &lt;scipy.stats._distn_infrastructure.rv_frozen object at 0x0000012CE94F5670&gt;},\n",
       "                   random_state=42)</pre><b>In a Jupyter environment, please rerun this cell to show the HTML representation or trust the notebook. <br />On GitHub, the HTML representation is unable to render, please try loading this page with nbviewer.org.</b></div><div class=\"sk-container\" hidden><div class=\"sk-item sk-dashed-wrapped\"><div class=\"sk-label-container\"><div class=\"sk-label sk-toggleable\"><input class=\"sk-toggleable__control sk-hidden--visually\" id=\"sk-estimator-id-39\" type=\"checkbox\" ><label for=\"sk-estimator-id-39\" class=\"sk-toggleable__label sk-toggleable__label-arrow\">RandomizedSearchCV</label><div class=\"sk-toggleable__content\"><pre>RandomizedSearchCV(cv=5,\n",
       "                   estimator=XGBClassifier(base_score=None, booster=None,\n",
       "                                           callbacks=None,\n",
       "                                           colsample_bylevel=None,\n",
       "                                           colsample_bynode=None,\n",
       "                                           colsample_bytree=None,\n",
       "                                           early_stopping_rounds=None,\n",
       "                                           enable_categorical=False,\n",
       "                                           eval_metric=None, feature_types=None,\n",
       "                                           gamma=None, gpu_id=None,\n",
       "                                           grow_policy=None,\n",
       "                                           importance_type=None,\n",
       "                                           interaction_constraints=None,\n",
       "                                           learning_rate...\n",
       "                                        &#x27;max_depth&#x27;: &lt;scipy.stats._distn_infrastructure.rv_frozen object at 0x0000012CE86D1BE0&gt;,\n",
       "                                        &#x27;n_estimators&#x27;: &lt;scipy.stats._distn_infrastructure.rv_frozen object at 0x0000012CEA007AF0&gt;,\n",
       "                                        &#x27;reg_lambda&#x27;: &lt;scipy.stats._distn_infrastructure.rv_frozen object at 0x0000012CE9448490&gt;,\n",
       "                                        &#x27;subsample&#x27;: &lt;scipy.stats._distn_infrastructure.rv_frozen object at 0x0000012CE94F5670&gt;},\n",
       "                   random_state=42)</pre></div></div></div><div class=\"sk-parallel\"><div class=\"sk-parallel-item\"><div class=\"sk-item\"><div class=\"sk-label-container\"><div class=\"sk-label sk-toggleable\"><input class=\"sk-toggleable__control sk-hidden--visually\" id=\"sk-estimator-id-40\" type=\"checkbox\" ><label for=\"sk-estimator-id-40\" class=\"sk-toggleable__label sk-toggleable__label-arrow\">estimator: XGBClassifier</label><div class=\"sk-toggleable__content\"><pre>XGBClassifier(base_score=None, booster=None, callbacks=None,\n",
       "              colsample_bylevel=None, colsample_bynode=None,\n",
       "              colsample_bytree=None, early_stopping_rounds=None,\n",
       "              enable_categorical=False, eval_metric=None, feature_types=None,\n",
       "              gamma=None, gpu_id=None, grow_policy=None, importance_type=None,\n",
       "              interaction_constraints=None, learning_rate=None, max_bin=None,\n",
       "              max_cat_threshold=None, max_cat_to_onehot=None,\n",
       "              max_delta_step=None, max_depth=None, max_leaves=None,\n",
       "              min_child_weight=None, missing=nan, monotone_constraints=None,\n",
       "              n_estimators=100, n_jobs=None, num_parallel_tree=None,\n",
       "              predictor=None, random_state=100, ...)</pre></div></div></div><div class=\"sk-serial\"><div class=\"sk-item\"><div class=\"sk-estimator sk-toggleable\"><input class=\"sk-toggleable__control sk-hidden--visually\" id=\"sk-estimator-id-41\" type=\"checkbox\" ><label for=\"sk-estimator-id-41\" class=\"sk-toggleable__label sk-toggleable__label-arrow\">XGBClassifier</label><div class=\"sk-toggleable__content\"><pre>XGBClassifier(base_score=None, booster=None, callbacks=None,\n",
       "              colsample_bylevel=None, colsample_bynode=None,\n",
       "              colsample_bytree=None, early_stopping_rounds=None,\n",
       "              enable_categorical=False, eval_metric=None, feature_types=None,\n",
       "              gamma=None, gpu_id=None, grow_policy=None, importance_type=None,\n",
       "              interaction_constraints=None, learning_rate=None, max_bin=None,\n",
       "              max_cat_threshold=None, max_cat_to_onehot=None,\n",
       "              max_delta_step=None, max_depth=None, max_leaves=None,\n",
       "              min_child_weight=None, missing=nan, monotone_constraints=None,\n",
       "              n_estimators=100, n_jobs=None, num_parallel_tree=None,\n",
       "              predictor=None, random_state=100, ...)</pre></div></div></div></div></div></div></div></div></div></div>"
      ],
      "text/plain": [
       "RandomizedSearchCV(cv=5,\n",
       "                   estimator=XGBClassifier(base_score=None, booster=None,\n",
       "                                           callbacks=None,\n",
       "                                           colsample_bylevel=None,\n",
       "                                           colsample_bynode=None,\n",
       "                                           colsample_bytree=None,\n",
       "                                           early_stopping_rounds=None,\n",
       "                                           enable_categorical=False,\n",
       "                                           eval_metric=None, feature_types=None,\n",
       "                                           gamma=None, gpu_id=None,\n",
       "                                           grow_policy=None,\n",
       "                                           importance_type=None,\n",
       "                                           interaction_constraints=None,\n",
       "                                           learning_rate...\n",
       "                                        'max_depth': <scipy.stats._distn_infrastructure.rv_frozen object at 0x0000012CE86D1BE0>,\n",
       "                                        'n_estimators': <scipy.stats._distn_infrastructure.rv_frozen object at 0x0000012CEA007AF0>,\n",
       "                                        'reg_lambda': <scipy.stats._distn_infrastructure.rv_frozen object at 0x0000012CE9448490>,\n",
       "                                        'subsample': <scipy.stats._distn_infrastructure.rv_frozen object at 0x0000012CE94F5670>},\n",
       "                   random_state=42)"
      ]
     },
     "execution_count": 549,
     "metadata": {},
     "output_type": "execute_result"
    }
   ],
   "source": [
    "rs.fit(xr_train2,yr_train2)"
   ]
  },
  {
   "cell_type": "code",
   "execution_count": 550,
   "id": "0afc435b",
   "metadata": {
    "ExecuteTime": {
     "end_time": "2023-02-10T15:06:03.833310Z",
     "start_time": "2023-02-10T15:06:03.820278Z"
    }
   },
   "outputs": [],
   "source": [
    "y_pred = rs.predict(xr_test2)"
   ]
  },
  {
   "cell_type": "code",
   "execution_count": 551,
   "id": "1dadc4df",
   "metadata": {
    "ExecuteTime": {
     "end_time": "2023-02-10T15:06:03.849313Z",
     "start_time": "2023-02-10T15:06:03.836311Z"
    }
   },
   "outputs": [],
   "source": [
    "from sklearn.metrics import accuracy_score\n",
    "accuracy = accuracy_score(yr_test2, y_pred)"
   ]
  },
  {
   "cell_type": "code",
   "execution_count": 552,
   "id": "3d232ed0",
   "metadata": {
    "ExecuteTime": {
     "end_time": "2023-02-10T15:06:03.865317Z",
     "start_time": "2023-02-10T15:06:03.852315Z"
    }
   },
   "outputs": [
    {
     "name": "stdout",
     "output_type": "stream",
     "text": [
      "Best hyperparameters:  {'colsample_bytree': 0.3406585285177396, 'gamma': 0.4330880728874676, 'learning_rate': 0.19033450352296263, 'max_depth': 9, 'n_estimators': 180, 'reg_lambda': 0.041168988591604894, 'subsample': 0.978936896513396}\n",
      "Accuracy:  0.9756302521008403\n"
     ]
    }
   ],
   "source": [
    "print(\"Best hyperparameters: \", rs.best_params_)\n",
    "print(\"Accuracy: \", accuracy)"
   ]
  },
  {
   "cell_type": "markdown",
   "id": "7f4322a2",
   "metadata": {},
   "source": [
    "# Final Model"
   ]
  },
  {
   "cell_type": "code",
   "execution_count": 553,
   "id": "cfb1cbb6",
   "metadata": {
    "ExecuteTime": {
     "end_time": "2023-02-10T15:06:04.629621Z",
     "start_time": "2023-02-10T15:06:03.868319Z"
    }
   },
   "outputs": [
    {
     "data": {
      "text/html": [
       "<style>#sk-container-id-34 {color: black;background-color: white;}#sk-container-id-34 pre{padding: 0;}#sk-container-id-34 div.sk-toggleable {background-color: white;}#sk-container-id-34 label.sk-toggleable__label {cursor: pointer;display: block;width: 100%;margin-bottom: 0;padding: 0.3em;box-sizing: border-box;text-align: center;}#sk-container-id-34 label.sk-toggleable__label-arrow:before {content: \"▸\";float: left;margin-right: 0.25em;color: #696969;}#sk-container-id-34 label.sk-toggleable__label-arrow:hover:before {color: black;}#sk-container-id-34 div.sk-estimator:hover label.sk-toggleable__label-arrow:before {color: black;}#sk-container-id-34 div.sk-toggleable__content {max-height: 0;max-width: 0;overflow: hidden;text-align: left;background-color: #f0f8ff;}#sk-container-id-34 div.sk-toggleable__content pre {margin: 0.2em;color: black;border-radius: 0.25em;background-color: #f0f8ff;}#sk-container-id-34 input.sk-toggleable__control:checked~div.sk-toggleable__content {max-height: 200px;max-width: 100%;overflow: auto;}#sk-container-id-34 input.sk-toggleable__control:checked~label.sk-toggleable__label-arrow:before {content: \"▾\";}#sk-container-id-34 div.sk-estimator input.sk-toggleable__control:checked~label.sk-toggleable__label {background-color: #d4ebff;}#sk-container-id-34 div.sk-label input.sk-toggleable__control:checked~label.sk-toggleable__label {background-color: #d4ebff;}#sk-container-id-34 input.sk-hidden--visually {border: 0;clip: rect(1px 1px 1px 1px);clip: rect(1px, 1px, 1px, 1px);height: 1px;margin: -1px;overflow: hidden;padding: 0;position: absolute;width: 1px;}#sk-container-id-34 div.sk-estimator {font-family: monospace;background-color: #f0f8ff;border: 1px dotted black;border-radius: 0.25em;box-sizing: border-box;margin-bottom: 0.5em;}#sk-container-id-34 div.sk-estimator:hover {background-color: #d4ebff;}#sk-container-id-34 div.sk-parallel-item::after {content: \"\";width: 100%;border-bottom: 1px solid gray;flex-grow: 1;}#sk-container-id-34 div.sk-label:hover label.sk-toggleable__label {background-color: #d4ebff;}#sk-container-id-34 div.sk-serial::before {content: \"\";position: absolute;border-left: 1px solid gray;box-sizing: border-box;top: 0;bottom: 0;left: 50%;z-index: 0;}#sk-container-id-34 div.sk-serial {display: flex;flex-direction: column;align-items: center;background-color: white;padding-right: 0.2em;padding-left: 0.2em;position: relative;}#sk-container-id-34 div.sk-item {position: relative;z-index: 1;}#sk-container-id-34 div.sk-parallel {display: flex;align-items: stretch;justify-content: center;background-color: white;position: relative;}#sk-container-id-34 div.sk-item::before, #sk-container-id-34 div.sk-parallel-item::before {content: \"\";position: absolute;border-left: 1px solid gray;box-sizing: border-box;top: 0;bottom: 0;left: 50%;z-index: -1;}#sk-container-id-34 div.sk-parallel-item {display: flex;flex-direction: column;z-index: 1;position: relative;background-color: white;}#sk-container-id-34 div.sk-parallel-item:first-child::after {align-self: flex-end;width: 50%;}#sk-container-id-34 div.sk-parallel-item:last-child::after {align-self: flex-start;width: 50%;}#sk-container-id-34 div.sk-parallel-item:only-child::after {width: 0;}#sk-container-id-34 div.sk-dashed-wrapped {border: 1px dashed gray;margin: 0 0.4em 0.5em 0.4em;box-sizing: border-box;padding-bottom: 0.4em;background-color: white;}#sk-container-id-34 div.sk-label label {font-family: monospace;font-weight: bold;display: inline-block;line-height: 1.2em;}#sk-container-id-34 div.sk-label-container {text-align: center;}#sk-container-id-34 div.sk-container {/* jupyter's `normalize.less` sets `[hidden] { display: none; }` but bootstrap.min.css set `[hidden] { display: none !important; }` so we also need the `!important` here to be able to override the default hidden behavior on the sphinx rendered scikit-learn.org. See: https://github.com/scikit-learn/scikit-learn/issues/21755 */display: inline-block !important;position: relative;}#sk-container-id-34 div.sk-text-repr-fallback {display: none;}</style><div id=\"sk-container-id-34\" class=\"sk-top-container\"><div class=\"sk-text-repr-fallback\"><pre>XGBClassifier(base_score=None, booster=None, callbacks=None,\n",
       "              colsample_bylevel=None, colsample_bynode=None,\n",
       "              colsample_bytree=0.3406585285177396, early_stopping_rounds=None,\n",
       "              enable_categorical=False, eval_metric=None, feature_types=None,\n",
       "              gamma=0.4330880728874676, gpu_id=None, grow_policy=None,\n",
       "              importance_type=None, interaction_constraints=None,\n",
       "              learning_rate=0.19033450352296263, max_bin=None,\n",
       "              max_cat_threshold=None, max_cat_to_onehot=None,\n",
       "              max_delta_step=None, max_depth=9, max_leaves=None,\n",
       "              min_child_weight=None, missing=nan, monotone_constraints=None,\n",
       "              n_estimators=180, n_jobs=None, num_parallel_tree=None,\n",
       "              predictor=None, random_state=None, ...)</pre><b>In a Jupyter environment, please rerun this cell to show the HTML representation or trust the notebook. <br />On GitHub, the HTML representation is unable to render, please try loading this page with nbviewer.org.</b></div><div class=\"sk-container\" hidden><div class=\"sk-item\"><div class=\"sk-estimator sk-toggleable\"><input class=\"sk-toggleable__control sk-hidden--visually\" id=\"sk-estimator-id-42\" type=\"checkbox\" checked><label for=\"sk-estimator-id-42\" class=\"sk-toggleable__label sk-toggleable__label-arrow\">XGBClassifier</label><div class=\"sk-toggleable__content\"><pre>XGBClassifier(base_score=None, booster=None, callbacks=None,\n",
       "              colsample_bylevel=None, colsample_bynode=None,\n",
       "              colsample_bytree=0.3406585285177396, early_stopping_rounds=None,\n",
       "              enable_categorical=False, eval_metric=None, feature_types=None,\n",
       "              gamma=0.4330880728874676, gpu_id=None, grow_policy=None,\n",
       "              importance_type=None, interaction_constraints=None,\n",
       "              learning_rate=0.19033450352296263, max_bin=None,\n",
       "              max_cat_threshold=None, max_cat_to_onehot=None,\n",
       "              max_delta_step=None, max_depth=9, max_leaves=None,\n",
       "              min_child_weight=None, missing=nan, monotone_constraints=None,\n",
       "              n_estimators=180, n_jobs=None, num_parallel_tree=None,\n",
       "              predictor=None, random_state=None, ...)</pre></div></div></div></div></div>"
      ],
      "text/plain": [
       "XGBClassifier(base_score=None, booster=None, callbacks=None,\n",
       "              colsample_bylevel=None, colsample_bynode=None,\n",
       "              colsample_bytree=0.3406585285177396, early_stopping_rounds=None,\n",
       "              enable_categorical=False, eval_metric=None, feature_types=None,\n",
       "              gamma=0.4330880728874676, gpu_id=None, grow_policy=None,\n",
       "              importance_type=None, interaction_constraints=None,\n",
       "              learning_rate=0.19033450352296263, max_bin=None,\n",
       "              max_cat_threshold=None, max_cat_to_onehot=None,\n",
       "              max_delta_step=None, max_depth=9, max_leaves=None,\n",
       "              min_child_weight=None, missing=nan, monotone_constraints=None,\n",
       "              n_estimators=180, n_jobs=None, num_parallel_tree=None,\n",
       "              predictor=None, random_state=None, ...)"
      ]
     },
     "execution_count": 553,
     "metadata": {},
     "output_type": "execute_result"
    }
   ],
   "source": [
    "model_xg_smote=XGBClassifier(colsample_bytree = 0.3406585285177396, gamma = 0.4330880728874676, learning_rate = 0.19033450352296263, max_depth = 9, n_estimators= 180, reg_lambda = 0.041168988591604894, subsample= 0.978936896513396)\n",
    "model_xg_smote.fit(xr_train2,yr_train2)"
   ]
  },
  {
   "cell_type": "code",
   "execution_count": 554,
   "id": "6e539ff0",
   "metadata": {
    "ExecuteTime": {
     "end_time": "2023-02-10T15:06:04.660656Z",
     "start_time": "2023-02-10T15:06:04.632623Z"
    }
   },
   "outputs": [],
   "source": [
    "yr_predict4 = model_xg_smote.predict(xr_test2)"
   ]
  },
  {
   "cell_type": "code",
   "execution_count": 555,
   "id": "35c2fcda",
   "metadata": {
    "ExecuteTime": {
     "end_time": "2023-02-10T15:06:04.691665Z",
     "start_time": "2023-02-10T15:06:04.663659Z"
    }
   },
   "outputs": [],
   "source": [
    "model_score_r4 = model_xg_smote.score(xr_test2, yr_test2)"
   ]
  },
  {
   "cell_type": "code",
   "execution_count": 556,
   "id": "24afa0c5",
   "metadata": {
    "ExecuteTime": {
     "end_time": "2023-02-10T15:06:04.723670Z",
     "start_time": "2023-02-10T15:06:04.694666Z"
    }
   },
   "outputs": [
    {
     "name": "stdout",
     "output_type": "stream",
     "text": [
      "0.9789915966386554\n",
      "              precision    recall  f1-score   support\n",
      "\n",
      "           0       0.98      0.98      0.98       568\n",
      "           1       0.98      0.98      0.98       622\n",
      "\n",
      "    accuracy                           0.98      1190\n",
      "   macro avg       0.98      0.98      0.98      1190\n",
      "weighted avg       0.98      0.98      0.98      1190\n",
      "\n",
      "[[556  12]\n",
      " [ 13 609]]\n"
     ]
    }
   ],
   "source": [
    "print(model_score_r4)\n",
    "print(metrics.classification_report(yr_test2, yr_predict4))\n",
    "print(metrics.confusion_matrix(yr_test2, yr_predict4))"
   ]
  },
  {
   "cell_type": "code",
   "execution_count": 557,
   "id": "186aa081",
   "metadata": {
    "ExecuteTime": {
     "end_time": "2023-02-10T15:06:04.739674Z",
     "start_time": "2023-02-10T15:06:04.726674Z"
    }
   },
   "outputs": [],
   "source": [
    "kfold = KFold(n_splits=10, shuffle= True, random_state=42)"
   ]
  },
  {
   "cell_type": "code",
   "execution_count": 558,
   "id": "8d209f9a",
   "metadata": {
    "ExecuteTime": {
     "end_time": "2023-02-10T15:06:11.031984Z",
     "start_time": "2023-02-10T15:06:04.742679Z"
    }
   },
   "outputs": [],
   "source": [
    "scores = cross_val_score(model_xg_smote,xr_train2,yr_train2, cv=kfold)"
   ]
  },
  {
   "cell_type": "code",
   "execution_count": 559,
   "id": "d1b0867b",
   "metadata": {
    "ExecuteTime": {
     "end_time": "2023-02-10T15:06:11.048025Z",
     "start_time": "2023-02-10T15:06:11.034985Z"
    }
   },
   "outputs": [
    {
     "name": "stdout",
     "output_type": "stream",
     "text": [
      "Accuracy: 97.25% (0.55%)\n"
     ]
    }
   ],
   "source": [
    "print(\"Accuracy: %.2f%% (%.2f%%)\" % (scores.mean()*100, scores.std()*100))"
   ]
  },
  {
   "cell_type": "code",
   "execution_count": 560,
   "id": "3c2c1c02",
   "metadata": {
    "ExecuteTime": {
     "end_time": "2023-02-10T15:06:11.080032Z",
     "start_time": "2023-02-10T15:06:11.051026Z"
    }
   },
   "outputs": [],
   "source": [
    "model_score_r4 = model_xg_smote.score(xr_test2, yr_test2)"
   ]
  },
  {
   "cell_type": "code",
   "execution_count": 561,
   "id": "f7e8f019",
   "metadata": {
    "ExecuteTime": {
     "end_time": "2023-02-10T15:06:11.110040Z",
     "start_time": "2023-02-10T15:06:11.083034Z"
    }
   },
   "outputs": [
    {
     "name": "stdout",
     "output_type": "stream",
     "text": [
      "0.9789915966386554\n",
      "              precision    recall  f1-score   support\n",
      "\n",
      "           0       0.98      0.98      0.98       568\n",
      "           1       0.98      0.98      0.98       622\n",
      "\n",
      "    accuracy                           0.98      1190\n",
      "   macro avg       0.98      0.98      0.98      1190\n",
      "weighted avg       0.98      0.98      0.98      1190\n",
      "\n",
      "[[556  12]\n",
      " [ 13 609]]\n"
     ]
    }
   ],
   "source": [
    "print(model_score_r4)\n",
    "print(metrics.classification_report(yr_test2, yr_predict4))\n",
    "print(metrics.confusion_matrix(yr_test2, yr_predict4))"
   ]
  },
  {
   "cell_type": "code",
   "execution_count": 562,
   "id": "50f9a077",
   "metadata": {
    "ExecuteTime": {
     "end_time": "2023-02-10T15:06:11.126045Z",
     "start_time": "2023-02-10T15:06:11.114043Z"
    }
   },
   "outputs": [
    {
     "name": "stdout",
     "output_type": "stream",
     "text": [
      "Accuracy:  0.9789915966386554\n"
     ]
    }
   ],
   "source": [
    "accuracy = accuracy_score(yr_test2, yr_predict4)\n",
    "print(\"Accuracy: \", accuracy)"
   ]
  },
  {
   "cell_type": "markdown",
   "id": "a3696e7c",
   "metadata": {},
   "source": [
    "# AUC-ROC"
   ]
  },
  {
   "cell_type": "code",
   "execution_count": 563,
   "id": "7a97ed74",
   "metadata": {
    "ExecuteTime": {
     "end_time": "2023-02-10T15:06:11.142045Z",
     "start_time": "2023-02-10T15:06:11.129046Z"
    }
   },
   "outputs": [],
   "source": [
    "from sklearn.metrics import roc_auc_score,roc_curve"
   ]
  },
  {
   "cell_type": "code",
   "execution_count": 564,
   "id": "20880452",
   "metadata": {
    "ExecuteTime": {
     "end_time": "2023-02-10T15:06:11.174052Z",
     "start_time": "2023-02-10T15:06:11.145047Z"
    }
   },
   "outputs": [],
   "source": [
    "y_pred_prob = model_xg_smote.predict_proba(xr_test2)[:,1]"
   ]
  },
  {
   "cell_type": "code",
   "execution_count": 565,
   "id": "6499cdbb",
   "metadata": {
    "ExecuteTime": {
     "end_time": "2023-02-10T15:06:11.190058Z",
     "start_time": "2023-02-10T15:06:11.177054Z"
    }
   },
   "outputs": [
    {
     "name": "stdout",
     "output_type": "stream",
     "text": [
      "AUC-ROC Score:  0.9969289207916308\n"
     ]
    }
   ],
   "source": [
    "auc_roc = roc_auc_score(yr_test2, y_pred_prob)\n",
    "print(\"AUC-ROC Score: \", auc_roc)"
   ]
  },
  {
   "cell_type": "code",
   "execution_count": 566,
   "id": "10fb5f5e",
   "metadata": {
    "ExecuteTime": {
     "end_time": "2023-02-10T15:06:11.427803Z",
     "start_time": "2023-02-10T15:06:11.193058Z"
    }
   },
   "outputs": [
    {
     "data": {
      "image/png": "[encoded data removed]",
      "text/plain": [
       "<Figure size 432x288 with 1 Axes>"
      ]
     },
     "metadata": {
      "needs_background": "light"
     },
     "output_type": "display_data"
    }
   ],
   "source": [
    "fpr, tpr, thresholds = roc_curve(yr_test2, y_pred_prob)\n",
    "plt.plot(fpr, tpr,label='AUC-ROC = %0.2f' % auc_roc)\n",
    "plt.legend(loc='lower right')\n",
    "plt.plot([0, 1], [0, 1], 'r--')\n",
    "plt.xlim([0, 1])\n",
    "plt.ylim([0, 1])\n",
    "plt.xlabel('False Positive Rate')\n",
    "plt.ylabel('True Positive Rate')\n",
    "plt.title('ROC Curve')\n",
    "plt.show()"
   ]
  }
 ],
 "metadata": {
  "kernelspec": {
   "display_name": "Python 3 (ipykernel)",
   "language": "python",
   "name": "python3"
  },
  "language_info": {
   "codemirror_mode": {
    "name": "ipython",
    "version": 3
   },
   "file_extension": ".py",
   "mimetype": "text/x-python",
   "name": "python",
   "nbconvert_exporter": "python",
   "pygments_lexer": "ipython3",
   "version": "3.9.7"
  }
 },
 "nbformat": 4,
 "nbformat_minor": 5
}
